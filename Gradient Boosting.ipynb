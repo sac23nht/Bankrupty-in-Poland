{
 "cells": [
  {
   "attachments": {},
   "cell_type": "markdown",
   "metadata": {},
   "source": [
    "* Improve bankruptcy model using gradient boosting\n",
    "* Evaluate Model using precision and recall\n",
    "* Create an interactive dashboard\n",
    "* Create a python module to store the prediction function"
   ]
  },
  {
   "cell_type": "code",
   "execution_count": 26,
   "metadata": {},
   "outputs": [],
   "source": [
    "# Import Libraries\n",
    "import gzip\n",
    "import json\n",
    "import pickle\n",
    "\n",
    "import ipywidgets as widgets\n",
    "import pandas as pd\n",
    "from imblearn.over_sampling import RandomOverSampler\n",
    "from IPython.display import VimeoVideo\n",
    "from ipywidgets import interact\n",
    "from sklearn.ensemble import GradientBoostingClassifier\n",
    "from sklearn.impute import SimpleImputer\n",
    "from sklearn.metrics import (\n",
    "    ConfusionMatrixDisplay,\n",
    "    classification_report,\n",
    "    confusion_matrix,\n",
    ")\n",
    "from sklearn.model_selection import GridSearchCV, train_test_split\n",
    "from sklearn.pipeline import make_pipeline\n",
    "from teaching_tools.widgets import ConfusionMatrixWidget\n"
   ]
  },
  {
   "attachments": {},
   "cell_type": "markdown",
   "metadata": {},
   "source": [
    "# Prepare Data\n",
    "\n",
    "## Import"
   ]
  },
  {
   "cell_type": "code",
   "execution_count": 3,
   "metadata": {},
   "outputs": [],
   "source": [
    "def wrangle(filename):\n",
    "     # Open compressed file, load into dictionary\n",
    "    with gzip.open(filename, \"r\") as f:\n",
    "        data = json.load(f)\n",
    "     \n",
    "    # Load dictionary into DataFrame, set index\n",
    "    df = pd.DataFrame().from_dict(data[\"data\"]).set_index(\"company_id\")\n",
    "    return df"
   ]
  },
  {
   "cell_type": "code",
   "execution_count": 4,
   "metadata": {},
   "outputs": [
    {
     "name": "stdout",
     "output_type": "stream",
     "text": [
      "(9977, 65)\n"
     ]
    },
    {
     "data": {
      "text/html": [
       "<div>\n",
       "<style scoped>\n",
       "    .dataframe tbody tr th:only-of-type {\n",
       "        vertical-align: middle;\n",
       "    }\n",
       "\n",
       "    .dataframe tbody tr th {\n",
       "        vertical-align: top;\n",
       "    }\n",
       "\n",
       "    .dataframe thead th {\n",
       "        text-align: right;\n",
       "    }\n",
       "</style>\n",
       "<table border=\"1\" class=\"dataframe\">\n",
       "  <thead>\n",
       "    <tr style=\"text-align: right;\">\n",
       "      <th></th>\n",
       "      <th>feat_1</th>\n",
       "      <th>feat_2</th>\n",
       "      <th>feat_3</th>\n",
       "      <th>feat_4</th>\n",
       "      <th>feat_5</th>\n",
       "      <th>feat_6</th>\n",
       "      <th>feat_7</th>\n",
       "      <th>feat_8</th>\n",
       "      <th>feat_9</th>\n",
       "      <th>feat_10</th>\n",
       "      <th>...</th>\n",
       "      <th>feat_56</th>\n",
       "      <th>feat_57</th>\n",
       "      <th>feat_58</th>\n",
       "      <th>feat_59</th>\n",
       "      <th>feat_60</th>\n",
       "      <th>feat_61</th>\n",
       "      <th>feat_62</th>\n",
       "      <th>feat_63</th>\n",
       "      <th>feat_64</th>\n",
       "      <th>bankrupt</th>\n",
       "    </tr>\n",
       "    <tr>\n",
       "      <th>company_id</th>\n",
       "      <th></th>\n",
       "      <th></th>\n",
       "      <th></th>\n",
       "      <th></th>\n",
       "      <th></th>\n",
       "      <th></th>\n",
       "      <th></th>\n",
       "      <th></th>\n",
       "      <th></th>\n",
       "      <th></th>\n",
       "      <th></th>\n",
       "      <th></th>\n",
       "      <th></th>\n",
       "      <th></th>\n",
       "      <th></th>\n",
       "      <th></th>\n",
       "      <th></th>\n",
       "      <th></th>\n",
       "      <th></th>\n",
       "      <th></th>\n",
       "      <th></th>\n",
       "    </tr>\n",
       "  </thead>\n",
       "  <tbody>\n",
       "    <tr>\n",
       "      <th>1</th>\n",
       "      <td>0.174190</td>\n",
       "      <td>0.41299</td>\n",
       "      <td>0.14371</td>\n",
       "      <td>1.3480</td>\n",
       "      <td>-28.9820</td>\n",
       "      <td>0.60383</td>\n",
       "      <td>0.219460</td>\n",
       "      <td>1.12250</td>\n",
       "      <td>1.1961</td>\n",
       "      <td>0.46359</td>\n",
       "      <td>...</td>\n",
       "      <td>0.163960</td>\n",
       "      <td>0.375740</td>\n",
       "      <td>0.83604</td>\n",
       "      <td>0.000007</td>\n",
       "      <td>9.7145</td>\n",
       "      <td>6.2813</td>\n",
       "      <td>84.291</td>\n",
       "      <td>4.3303</td>\n",
       "      <td>4.0341</td>\n",
       "      <td>False</td>\n",
       "    </tr>\n",
       "    <tr>\n",
       "      <th>2</th>\n",
       "      <td>0.146240</td>\n",
       "      <td>0.46038</td>\n",
       "      <td>0.28230</td>\n",
       "      <td>1.6294</td>\n",
       "      <td>2.5952</td>\n",
       "      <td>0.00000</td>\n",
       "      <td>0.171850</td>\n",
       "      <td>1.17210</td>\n",
       "      <td>1.6018</td>\n",
       "      <td>0.53962</td>\n",
       "      <td>...</td>\n",
       "      <td>0.027516</td>\n",
       "      <td>0.271000</td>\n",
       "      <td>0.90108</td>\n",
       "      <td>0.000000</td>\n",
       "      <td>5.9882</td>\n",
       "      <td>4.1103</td>\n",
       "      <td>102.190</td>\n",
       "      <td>3.5716</td>\n",
       "      <td>5.9500</td>\n",
       "      <td>False</td>\n",
       "    </tr>\n",
       "    <tr>\n",
       "      <th>3</th>\n",
       "      <td>0.000595</td>\n",
       "      <td>0.22612</td>\n",
       "      <td>0.48839</td>\n",
       "      <td>3.1599</td>\n",
       "      <td>84.8740</td>\n",
       "      <td>0.19114</td>\n",
       "      <td>0.004572</td>\n",
       "      <td>2.98810</td>\n",
       "      <td>1.0077</td>\n",
       "      <td>0.67566</td>\n",
       "      <td>...</td>\n",
       "      <td>0.007639</td>\n",
       "      <td>0.000881</td>\n",
       "      <td>0.99236</td>\n",
       "      <td>0.000000</td>\n",
       "      <td>6.7742</td>\n",
       "      <td>3.7922</td>\n",
       "      <td>64.846</td>\n",
       "      <td>5.6287</td>\n",
       "      <td>4.4581</td>\n",
       "      <td>False</td>\n",
       "    </tr>\n",
       "    <tr>\n",
       "      <th>5</th>\n",
       "      <td>0.188290</td>\n",
       "      <td>0.41504</td>\n",
       "      <td>0.34231</td>\n",
       "      <td>1.9279</td>\n",
       "      <td>-58.2740</td>\n",
       "      <td>0.00000</td>\n",
       "      <td>0.233580</td>\n",
       "      <td>1.40940</td>\n",
       "      <td>1.3393</td>\n",
       "      <td>0.58496</td>\n",
       "      <td>...</td>\n",
       "      <td>0.176480</td>\n",
       "      <td>0.321880</td>\n",
       "      <td>0.82635</td>\n",
       "      <td>0.073039</td>\n",
       "      <td>2.5912</td>\n",
       "      <td>7.0756</td>\n",
       "      <td>100.540</td>\n",
       "      <td>3.6303</td>\n",
       "      <td>4.6375</td>\n",
       "      <td>False</td>\n",
       "    </tr>\n",
       "    <tr>\n",
       "      <th>6</th>\n",
       "      <td>0.182060</td>\n",
       "      <td>0.55615</td>\n",
       "      <td>0.32191</td>\n",
       "      <td>1.6045</td>\n",
       "      <td>16.3140</td>\n",
       "      <td>0.00000</td>\n",
       "      <td>0.182060</td>\n",
       "      <td>0.79808</td>\n",
       "      <td>1.8126</td>\n",
       "      <td>0.44385</td>\n",
       "      <td>...</td>\n",
       "      <td>0.555770</td>\n",
       "      <td>0.410190</td>\n",
       "      <td>0.46957</td>\n",
       "      <td>0.029421</td>\n",
       "      <td>8.4553</td>\n",
       "      <td>3.3488</td>\n",
       "      <td>107.240</td>\n",
       "      <td>3.4036</td>\n",
       "      <td>12.4540</td>\n",
       "      <td>False</td>\n",
       "    </tr>\n",
       "  </tbody>\n",
       "</table>\n",
       "<p>5 rows × 65 columns</p>\n",
       "</div>"
      ],
      "text/plain": [
       "              feat_1   feat_2   feat_3  feat_4   feat_5   feat_6    feat_7  \\\n",
       "company_id                                                                   \n",
       "1           0.174190  0.41299  0.14371  1.3480 -28.9820  0.60383  0.219460   \n",
       "2           0.146240  0.46038  0.28230  1.6294   2.5952  0.00000  0.171850   \n",
       "3           0.000595  0.22612  0.48839  3.1599  84.8740  0.19114  0.004572   \n",
       "5           0.188290  0.41504  0.34231  1.9279 -58.2740  0.00000  0.233580   \n",
       "6           0.182060  0.55615  0.32191  1.6045  16.3140  0.00000  0.182060   \n",
       "\n",
       "             feat_8  feat_9  feat_10  ...   feat_56   feat_57  feat_58  \\\n",
       "company_id                            ...                                \n",
       "1           1.12250  1.1961  0.46359  ...  0.163960  0.375740  0.83604   \n",
       "2           1.17210  1.6018  0.53962  ...  0.027516  0.271000  0.90108   \n",
       "3           2.98810  1.0077  0.67566  ...  0.007639  0.000881  0.99236   \n",
       "5           1.40940  1.3393  0.58496  ...  0.176480  0.321880  0.82635   \n",
       "6           0.79808  1.8126  0.44385  ...  0.555770  0.410190  0.46957   \n",
       "\n",
       "             feat_59  feat_60  feat_61  feat_62  feat_63  feat_64  bankrupt  \n",
       "company_id                                                                   \n",
       "1           0.000007   9.7145   6.2813   84.291   4.3303   4.0341     False  \n",
       "2           0.000000   5.9882   4.1103  102.190   3.5716   5.9500     False  \n",
       "3           0.000000   6.7742   3.7922   64.846   5.6287   4.4581     False  \n",
       "5           0.073039   2.5912   7.0756  100.540   3.6303   4.6375     False  \n",
       "6           0.029421   8.4553   3.3488  107.240   3.4036  12.4540     False  \n",
       "\n",
       "[5 rows x 65 columns]"
      ]
     },
     "execution_count": 4,
     "metadata": {},
     "output_type": "execute_result"
    }
   ],
   "source": [
    "df = wrangle(\"poland-bankruptcy-data-2009.json.gz\")\n",
    "print(df.shape)\n",
    "df.head()"
   ]
  },
  {
   "attachments": {},
   "cell_type": "markdown",
   "metadata": {},
   "source": [
    "# Split"
   ]
  },
  {
   "cell_type": "code",
   "execution_count": 5,
   "metadata": {},
   "outputs": [
    {
     "name": "stdout",
     "output_type": "stream",
     "text": [
      "X shape: (9977, 64)\n",
      "y shape: (9977,)\n"
     ]
    }
   ],
   "source": [
    "target = \"bankrupt\"\n",
    "X = df.drop(columns=target)\n",
    "y = df[target]\n",
    "\n",
    "print(\"X shape:\", X.shape)\n",
    "print(\"y shape:\", y.shape)"
   ]
  },
  {
   "cell_type": "code",
   "execution_count": 6,
   "metadata": {},
   "outputs": [
    {
     "name": "stdout",
     "output_type": "stream",
     "text": [
      "X_train shape: (7981, 64)\n",
      "y_train shape: (7981,)\n",
      "X_test shape: (1996, 64)\n",
      "y_test shape: (1996,)\n"
     ]
    }
   ],
   "source": [
    "# Divide into training and testing sets\n",
    "X_train, X_test, y_train, y_test = train_test_split(\n",
    "    X, y, test_size=0.2, random_state=42\n",
    ")\n",
    "\n",
    "\n",
    "print(\"X_train shape:\", X_train.shape)\n",
    "print(\"y_train shape:\", y_train.shape)\n",
    "print(\"X_test shape:\", X_test.shape)\n",
    "print(\"y_test shape:\", y_test.shape)"
   ]
  },
  {
   "attachments": {},
   "cell_type": "markdown",
   "metadata": {},
   "source": [
    "# Resample"
   ]
  },
  {
   "cell_type": "code",
   "execution_count": 11,
   "metadata": {},
   "outputs": [
    {
     "name": "stdout",
     "output_type": "stream",
     "text": [
      "X_train_over shape: (15194, 64)\n"
     ]
    },
    {
     "data": {
      "text/html": [
       "<div>\n",
       "<style scoped>\n",
       "    .dataframe tbody tr th:only-of-type {\n",
       "        vertical-align: middle;\n",
       "    }\n",
       "\n",
       "    .dataframe tbody tr th {\n",
       "        vertical-align: top;\n",
       "    }\n",
       "\n",
       "    .dataframe thead th {\n",
       "        text-align: right;\n",
       "    }\n",
       "</style>\n",
       "<table border=\"1\" class=\"dataframe\">\n",
       "  <thead>\n",
       "    <tr style=\"text-align: right;\">\n",
       "      <th></th>\n",
       "      <th>feat_1</th>\n",
       "      <th>feat_2</th>\n",
       "      <th>feat_3</th>\n",
       "      <th>feat_4</th>\n",
       "      <th>feat_5</th>\n",
       "      <th>feat_6</th>\n",
       "      <th>feat_7</th>\n",
       "      <th>feat_8</th>\n",
       "      <th>feat_9</th>\n",
       "      <th>feat_10</th>\n",
       "      <th>...</th>\n",
       "      <th>feat_55</th>\n",
       "      <th>feat_56</th>\n",
       "      <th>feat_57</th>\n",
       "      <th>feat_58</th>\n",
       "      <th>feat_59</th>\n",
       "      <th>feat_60</th>\n",
       "      <th>feat_61</th>\n",
       "      <th>feat_62</th>\n",
       "      <th>feat_63</th>\n",
       "      <th>feat_64</th>\n",
       "    </tr>\n",
       "  </thead>\n",
       "  <tbody>\n",
       "    <tr>\n",
       "      <th>0</th>\n",
       "      <td>0.279320</td>\n",
       "      <td>0.053105</td>\n",
       "      <td>0.852030</td>\n",
       "      <td>17.0440</td>\n",
       "      <td>199.080</td>\n",
       "      <td>0.741770</td>\n",
       "      <td>0.353570</td>\n",
       "      <td>16.00600</td>\n",
       "      <td>1.2346</td>\n",
       "      <td>0.84997</td>\n",
       "      <td>...</td>\n",
       "      <td>52857.00</td>\n",
       "      <td>0.190040</td>\n",
       "      <td>0.328630</td>\n",
       "      <td>0.80996</td>\n",
       "      <td>0.00000</td>\n",
       "      <td>NaN</td>\n",
       "      <td>4.1858</td>\n",
       "      <td>11.002</td>\n",
       "      <td>33.1760</td>\n",
       "      <td>18.5720</td>\n",
       "    </tr>\n",
       "    <tr>\n",
       "      <th>1</th>\n",
       "      <td>0.001871</td>\n",
       "      <td>0.735120</td>\n",
       "      <td>0.156460</td>\n",
       "      <td>1.2269</td>\n",
       "      <td>-10.837</td>\n",
       "      <td>0.000000</td>\n",
       "      <td>0.002938</td>\n",
       "      <td>0.36032</td>\n",
       "      <td>1.4809</td>\n",
       "      <td>0.26488</td>\n",
       "      <td>...</td>\n",
       "      <td>440.02</td>\n",
       "      <td>0.014794</td>\n",
       "      <td>0.007064</td>\n",
       "      <td>0.99803</td>\n",
       "      <td>0.00000</td>\n",
       "      <td>7.4268</td>\n",
       "      <td>2.2925</td>\n",
       "      <td>169.960</td>\n",
       "      <td>2.1476</td>\n",
       "      <td>9.6185</td>\n",
       "    </tr>\n",
       "    <tr>\n",
       "      <th>2</th>\n",
       "      <td>0.113940</td>\n",
       "      <td>0.490250</td>\n",
       "      <td>0.077121</td>\n",
       "      <td>1.2332</td>\n",
       "      <td>-43.184</td>\n",
       "      <td>-0.000171</td>\n",
       "      <td>0.113940</td>\n",
       "      <td>1.03980</td>\n",
       "      <td>1.1649</td>\n",
       "      <td>0.50975</td>\n",
       "      <td>...</td>\n",
       "      <td>4617.40</td>\n",
       "      <td>0.214890</td>\n",
       "      <td>0.223520</td>\n",
       "      <td>0.78761</td>\n",
       "      <td>0.27412</td>\n",
       "      <td>6.2791</td>\n",
       "      <td>6.1622</td>\n",
       "      <td>103.630</td>\n",
       "      <td>3.5220</td>\n",
       "      <td>1.9673</td>\n",
       "    </tr>\n",
       "    <tr>\n",
       "      <th>3</th>\n",
       "      <td>0.008136</td>\n",
       "      <td>0.652610</td>\n",
       "      <td>0.148120</td>\n",
       "      <td>1.2628</td>\n",
       "      <td>29.071</td>\n",
       "      <td>0.000000</td>\n",
       "      <td>0.008136</td>\n",
       "      <td>0.53230</td>\n",
       "      <td>1.2891</td>\n",
       "      <td>0.34739</td>\n",
       "      <td>...</td>\n",
       "      <td>920.98</td>\n",
       "      <td>0.045169</td>\n",
       "      <td>0.023421</td>\n",
       "      <td>0.99434</td>\n",
       "      <td>0.14403</td>\n",
       "      <td>22.7480</td>\n",
       "      <td>2.2673</td>\n",
       "      <td>159.580</td>\n",
       "      <td>2.2872</td>\n",
       "      <td>4.4718</td>\n",
       "    </tr>\n",
       "    <tr>\n",
       "      <th>4</th>\n",
       "      <td>0.045396</td>\n",
       "      <td>0.279640</td>\n",
       "      <td>0.708730</td>\n",
       "      <td>3.7656</td>\n",
       "      <td>238.120</td>\n",
       "      <td>0.000000</td>\n",
       "      <td>0.056710</td>\n",
       "      <td>2.57610</td>\n",
       "      <td>1.0169</td>\n",
       "      <td>0.72036</td>\n",
       "      <td>...</td>\n",
       "      <td>10744.00</td>\n",
       "      <td>0.047501</td>\n",
       "      <td>0.063019</td>\n",
       "      <td>0.94624</td>\n",
       "      <td>0.00000</td>\n",
       "      <td>13.8860</td>\n",
       "      <td>49.0660</td>\n",
       "      <td>91.984</td>\n",
       "      <td>3.9681</td>\n",
       "      <td>29.0460</td>\n",
       "    </tr>\n",
       "  </tbody>\n",
       "</table>\n",
       "<p>5 rows × 64 columns</p>\n",
       "</div>"
      ],
      "text/plain": [
       "     feat_1    feat_2    feat_3   feat_4   feat_5    feat_6    feat_7  \\\n",
       "0  0.279320  0.053105  0.852030  17.0440  199.080  0.741770  0.353570   \n",
       "1  0.001871  0.735120  0.156460   1.2269  -10.837  0.000000  0.002938   \n",
       "2  0.113940  0.490250  0.077121   1.2332  -43.184 -0.000171  0.113940   \n",
       "3  0.008136  0.652610  0.148120   1.2628   29.071  0.000000  0.008136   \n",
       "4  0.045396  0.279640  0.708730   3.7656  238.120  0.000000  0.056710   \n",
       "\n",
       "     feat_8  feat_9  feat_10  ...   feat_55   feat_56   feat_57  feat_58  \\\n",
       "0  16.00600  1.2346  0.84997  ...  52857.00  0.190040  0.328630  0.80996   \n",
       "1   0.36032  1.4809  0.26488  ...    440.02  0.014794  0.007064  0.99803   \n",
       "2   1.03980  1.1649  0.50975  ...   4617.40  0.214890  0.223520  0.78761   \n",
       "3   0.53230  1.2891  0.34739  ...    920.98  0.045169  0.023421  0.99434   \n",
       "4   2.57610  1.0169  0.72036  ...  10744.00  0.047501  0.063019  0.94624   \n",
       "\n",
       "   feat_59  feat_60  feat_61  feat_62  feat_63  feat_64  \n",
       "0  0.00000      NaN   4.1858   11.002  33.1760  18.5720  \n",
       "1  0.00000   7.4268   2.2925  169.960   2.1476   9.6185  \n",
       "2  0.27412   6.2791   6.1622  103.630   3.5220   1.9673  \n",
       "3  0.14403  22.7480   2.2673  159.580   2.2872   4.4718  \n",
       "4  0.00000  13.8860  49.0660   91.984   3.9681  29.0460  \n",
       "\n",
       "[5 rows x 64 columns]"
      ]
     },
     "execution_count": 11,
     "metadata": {},
     "output_type": "execute_result"
    }
   ],
   "source": [
    "over_sampler = RandomOverSampler(random_state=42)\n",
    "X_train_over, y_train_over = over_sampler.fit_resample(X_train, y_train)\n",
    "print(\"X_train_over shape:\", X_train_over.shape)\n",
    "X_train_over.head()"
   ]
  },
  {
   "attachments": {},
   "cell_type": "markdown",
   "metadata": {},
   "source": [
    "# Build Model\n",
    "First I'll calculate the baseline accuracy.\n",
    "\n",
    "## Baseline"
   ]
  },
  {
   "cell_type": "code",
   "execution_count": 7,
   "metadata": {},
   "outputs": [
    {
     "name": "stdout",
     "output_type": "stream",
     "text": [
      "Baseline Accuracy: 0.9519\n"
     ]
    }
   ],
   "source": [
    "acc_baseline = y_train.value_counts(normalize=True).max()\n",
    "print(\"Baseline Accuracy:\", round(acc_baseline, 4))"
   ]
  },
  {
   "attachments": {},
   "cell_type": "markdown",
   "metadata": {},
   "source": [
    "# Iterate\n",
    "Even though the building blocks are the same with the previous notebook, here's where I start working with something new. First, I'm going to use a new type of ensemble model for our classifier.\n",
    "\n",
    "Ensemble models are machine learning models that use more than one predictor to arrive at a prediction. A group of predictors form an _ensemble_. In general, ensemble models perform better than using a single predictor. There are three types of ensemble models: **bagging**, **boosting**, and **blending**. Of the three, decision trees are commonly used to construct bagging and boosting models."
   ]
  },
  {
   "attachments": {},
   "cell_type": "markdown",
   "metadata": {},
   "source": [
    "Gradient boosting trees is another ensemble model. It uses a collection of tree models arranged in a sequence. Here, the model is built stage-wise; each additional tree aims to correct the previous tree's incorrect. \n",
    "\n",
    "Where does the name *gradient* in gradient boosting trees come from? Gradient descent is a minimization algorithm that updates/improves the current answer by taking a step in the direction of minimizing the loss function. This is the same as the gradient boosting trees algorithm as it adds trees to minimize loss/improve model performance. The term **boosting** refers to the algorithm's ability to combine multiple weak models in sequence to form a stronger model. "
   ]
  },
  {
   "attachments": {},
   "cell_type": "markdown",
   "metadata": {},
   "source": [
    "Gradient boosting trees have a similar set of hyperparameters as random forests but with some key additions.\n",
    "\n",
    "<table>\n",
    "\t<tr>\n",
    "    <th style=\"text-align: left\">Hyperparameter</th>\n",
    "    <th style=\"text-align: left\">Description</th>\n",
    "\t</tr>  \n",
    "    <tr>\n",
    "        <td style=\"text-align: left\"><code>learning_rate</code></td>\n",
    "        <td style=\"text-align: left\">Multiplicative factor of the tree's contribution to the model.</td>\n",
    "\t</tr>\n",
    "    <tr>\n",
    "        <td style=\"text-align: left\"><code>subsample</code></td>\n",
    "        <td style=\"text-align: left\">Fraction of the training data to use when fitting the trees.</td>\n",
    "\t</tr>\n",
    "</table>\n",
    "\n",
    "The learning rate determines how much each tree affect the final outcome and is very important in model convergence. Thus it should be considered during hyperparameter tuning to improve model performance."
   ]
  },
  {
   "attachments": {},
   "cell_type": "markdown",
   "metadata": {},
   "source": [
    "Next I'll Create a pipeline named `clf` (short for \"classifier\") that contains a `SimpleImputer` transformer and a `GradientBoostingClassifier` predictor."
   ]
  },
  {
   "cell_type": "code",
   "execution_count": 8,
   "metadata": {},
   "outputs": [],
   "source": [
    "clf = make_pipeline(SimpleImputer(), GradientBoostingClassifier())"
   ]
  },
  {
   "attachments": {},
   "cell_type": "markdown",
   "metadata": {},
   "source": [
    "I'm doing this because I only want to be to be looking at the positive class. Here, the positive class is the one where the companies really did go bankrupt.\n",
    "\n",
    "I'll be tuning some of the hyperparameters next"
   ]
  },
  {
   "cell_type": "code",
   "execution_count": 9,
   "metadata": {},
   "outputs": [
    {
     "data": {
      "text/plain": [
       "{'simpleimputer__strategy': ['mean', 'median'],\n",
       " 'gradientboostingclassifier__n_estimators': range(20, 31, 5),\n",
       " 'gradientboostingclassifier__max_depth': range(2, 5)}"
      ]
     },
     "execution_count": 9,
     "metadata": {},
     "output_type": "execute_result"
    }
   ],
   "source": [
    "# Create a dictionary with the range of hyperparameters that we want to evaluate for our classifier.\n",
    "params = {\n",
    "    \"simpleimputer__strategy\": [\"mean\", \"median\"],\n",
    "    \"gradientboostingclassifier__n_estimators\": range(20, 31, 5),\n",
    "    \"gradientboostingclassifier__max_depth\": range(2, 5)\n",
    "}\n",
    "params"
   ]
  },
  {
   "cell_type": "code",
   "execution_count": 10,
   "metadata": {},
   "outputs": [],
   "source": [
    "# Create a GridSearchCV named model that includes your classifier and hyperparameter grid.\n",
    "model = GridSearchCV(clf, param_grid=params, cv=5, n_jobs=1,  verbose=1)"
   ]
  },
  {
   "cell_type": "code",
   "execution_count": 12,
   "metadata": {},
   "outputs": [
    {
     "name": "stdout",
     "output_type": "stream",
     "text": [
      "Fitting 5 folds for each of 18 candidates, totalling 90 fits\n"
     ]
    },
    {
     "data": {
      "text/html": [
       "<style>#sk-container-id-1 {color: black;background-color: white;}#sk-container-id-1 pre{padding: 0;}#sk-container-id-1 div.sk-toggleable {background-color: white;}#sk-container-id-1 label.sk-toggleable__label {cursor: pointer;display: block;width: 100%;margin-bottom: 0;padding: 0.3em;box-sizing: border-box;text-align: center;}#sk-container-id-1 label.sk-toggleable__label-arrow:before {content: \"▸\";float: left;margin-right: 0.25em;color: #696969;}#sk-container-id-1 label.sk-toggleable__label-arrow:hover:before {color: black;}#sk-container-id-1 div.sk-estimator:hover label.sk-toggleable__label-arrow:before {color: black;}#sk-container-id-1 div.sk-toggleable__content {max-height: 0;max-width: 0;overflow: hidden;text-align: left;background-color: #f0f8ff;}#sk-container-id-1 div.sk-toggleable__content pre {margin: 0.2em;color: black;border-radius: 0.25em;background-color: #f0f8ff;}#sk-container-id-1 input.sk-toggleable__control:checked~div.sk-toggleable__content {max-height: 200px;max-width: 100%;overflow: auto;}#sk-container-id-1 input.sk-toggleable__control:checked~label.sk-toggleable__label-arrow:before {content: \"▾\";}#sk-container-id-1 div.sk-estimator input.sk-toggleable__control:checked~label.sk-toggleable__label {background-color: #d4ebff;}#sk-container-id-1 div.sk-label input.sk-toggleable__control:checked~label.sk-toggleable__label {background-color: #d4ebff;}#sk-container-id-1 input.sk-hidden--visually {border: 0;clip: rect(1px 1px 1px 1px);clip: rect(1px, 1px, 1px, 1px);height: 1px;margin: -1px;overflow: hidden;padding: 0;position: absolute;width: 1px;}#sk-container-id-1 div.sk-estimator {font-family: monospace;background-color: #f0f8ff;border: 1px dotted black;border-radius: 0.25em;box-sizing: border-box;margin-bottom: 0.5em;}#sk-container-id-1 div.sk-estimator:hover {background-color: #d4ebff;}#sk-container-id-1 div.sk-parallel-item::after {content: \"\";width: 100%;border-bottom: 1px solid gray;flex-grow: 1;}#sk-container-id-1 div.sk-label:hover label.sk-toggleable__label {background-color: #d4ebff;}#sk-container-id-1 div.sk-serial::before {content: \"\";position: absolute;border-left: 1px solid gray;box-sizing: border-box;top: 0;bottom: 0;left: 50%;z-index: 0;}#sk-container-id-1 div.sk-serial {display: flex;flex-direction: column;align-items: center;background-color: white;padding-right: 0.2em;padding-left: 0.2em;position: relative;}#sk-container-id-1 div.sk-item {position: relative;z-index: 1;}#sk-container-id-1 div.sk-parallel {display: flex;align-items: stretch;justify-content: center;background-color: white;position: relative;}#sk-container-id-1 div.sk-item::before, #sk-container-id-1 div.sk-parallel-item::before {content: \"\";position: absolute;border-left: 1px solid gray;box-sizing: border-box;top: 0;bottom: 0;left: 50%;z-index: -1;}#sk-container-id-1 div.sk-parallel-item {display: flex;flex-direction: column;z-index: 1;position: relative;background-color: white;}#sk-container-id-1 div.sk-parallel-item:first-child::after {align-self: flex-end;width: 50%;}#sk-container-id-1 div.sk-parallel-item:last-child::after {align-self: flex-start;width: 50%;}#sk-container-id-1 div.sk-parallel-item:only-child::after {width: 0;}#sk-container-id-1 div.sk-dashed-wrapped {border: 1px dashed gray;margin: 0 0.4em 0.5em 0.4em;box-sizing: border-box;padding-bottom: 0.4em;background-color: white;}#sk-container-id-1 div.sk-label label {font-family: monospace;font-weight: bold;display: inline-block;line-height: 1.2em;}#sk-container-id-1 div.sk-label-container {text-align: center;}#sk-container-id-1 div.sk-container {/* jupyter's `normalize.less` sets `[hidden] { display: none; }` but bootstrap.min.css set `[hidden] { display: none !important; }` so we also need the `!important` here to be able to override the default hidden behavior on the sphinx rendered scikit-learn.org. See: https://github.com/scikit-learn/scikit-learn/issues/21755 */display: inline-block !important;position: relative;}#sk-container-id-1 div.sk-text-repr-fallback {display: none;}</style><div id=\"sk-container-id-1\" class=\"sk-top-container\"><div class=\"sk-text-repr-fallback\"><pre>GridSearchCV(cv=5,\n",
       "             estimator=Pipeline(steps=[(&#x27;simpleimputer&#x27;, SimpleImputer()),\n",
       "                                       (&#x27;gradientboostingclassifier&#x27;,\n",
       "                                        GradientBoostingClassifier())]),\n",
       "             n_jobs=1,\n",
       "             param_grid={&#x27;gradientboostingclassifier__max_depth&#x27;: range(2, 5),\n",
       "                         &#x27;gradientboostingclassifier__n_estimators&#x27;: range(20, 31, 5),\n",
       "                         &#x27;simpleimputer__strategy&#x27;: [&#x27;mean&#x27;, &#x27;median&#x27;]},\n",
       "             verbose=1)</pre><b>In a Jupyter environment, please rerun this cell to show the HTML representation or trust the notebook. <br />On GitHub, the HTML representation is unable to render, please try loading this page with nbviewer.org.</b></div><div class=\"sk-container\" hidden><div class=\"sk-item sk-dashed-wrapped\"><div class=\"sk-label-container\"><div class=\"sk-label sk-toggleable\"><input class=\"sk-toggleable__control sk-hidden--visually\" id=\"sk-estimator-id-1\" type=\"checkbox\" ><label for=\"sk-estimator-id-1\" class=\"sk-toggleable__label sk-toggleable__label-arrow\">GridSearchCV</label><div class=\"sk-toggleable__content\"><pre>GridSearchCV(cv=5,\n",
       "             estimator=Pipeline(steps=[(&#x27;simpleimputer&#x27;, SimpleImputer()),\n",
       "                                       (&#x27;gradientboostingclassifier&#x27;,\n",
       "                                        GradientBoostingClassifier())]),\n",
       "             n_jobs=1,\n",
       "             param_grid={&#x27;gradientboostingclassifier__max_depth&#x27;: range(2, 5),\n",
       "                         &#x27;gradientboostingclassifier__n_estimators&#x27;: range(20, 31, 5),\n",
       "                         &#x27;simpleimputer__strategy&#x27;: [&#x27;mean&#x27;, &#x27;median&#x27;]},\n",
       "             verbose=1)</pre></div></div></div><div class=\"sk-parallel\"><div class=\"sk-parallel-item\"><div class=\"sk-item\"><div class=\"sk-label-container\"><div class=\"sk-label sk-toggleable\"><input class=\"sk-toggleable__control sk-hidden--visually\" id=\"sk-estimator-id-2\" type=\"checkbox\" ><label for=\"sk-estimator-id-2\" class=\"sk-toggleable__label sk-toggleable__label-arrow\">estimator: Pipeline</label><div class=\"sk-toggleable__content\"><pre>Pipeline(steps=[(&#x27;simpleimputer&#x27;, SimpleImputer()),\n",
       "                (&#x27;gradientboostingclassifier&#x27;, GradientBoostingClassifier())])</pre></div></div></div><div class=\"sk-serial\"><div class=\"sk-item\"><div class=\"sk-serial\"><div class=\"sk-item\"><div class=\"sk-estimator sk-toggleable\"><input class=\"sk-toggleable__control sk-hidden--visually\" id=\"sk-estimator-id-3\" type=\"checkbox\" ><label for=\"sk-estimator-id-3\" class=\"sk-toggleable__label sk-toggleable__label-arrow\">SimpleImputer</label><div class=\"sk-toggleable__content\"><pre>SimpleImputer()</pre></div></div></div><div class=\"sk-item\"><div class=\"sk-estimator sk-toggleable\"><input class=\"sk-toggleable__control sk-hidden--visually\" id=\"sk-estimator-id-4\" type=\"checkbox\" ><label for=\"sk-estimator-id-4\" class=\"sk-toggleable__label sk-toggleable__label-arrow\">GradientBoostingClassifier</label><div class=\"sk-toggleable__content\"><pre>GradientBoostingClassifier()</pre></div></div></div></div></div></div></div></div></div></div></div></div>"
      ],
      "text/plain": [
       "GridSearchCV(cv=5,\n",
       "             estimator=Pipeline(steps=[('simpleimputer', SimpleImputer()),\n",
       "                                       ('gradientboostingclassifier',\n",
       "                                        GradientBoostingClassifier())]),\n",
       "             n_jobs=1,\n",
       "             param_grid={'gradientboostingclassifier__max_depth': range(2, 5),\n",
       "                         'gradientboostingclassifier__n_estimators': range(20, 31, 5),\n",
       "                         'simpleimputer__strategy': ['mean', 'median']},\n",
       "             verbose=1)"
      ]
     },
     "execution_count": 12,
     "metadata": {},
     "output_type": "execute_result"
    }
   ],
   "source": [
    "# Fit model to over-sampled training data\n",
    "model.fit(X_train_over, y_train_over)"
   ]
  },
  {
   "cell_type": "code",
   "execution_count": 13,
   "metadata": {},
   "outputs": [
    {
     "data": {
      "text/html": [
       "<div>\n",
       "<style scoped>\n",
       "    .dataframe tbody tr th:only-of-type {\n",
       "        vertical-align: middle;\n",
       "    }\n",
       "\n",
       "    .dataframe tbody tr th {\n",
       "        vertical-align: top;\n",
       "    }\n",
       "\n",
       "    .dataframe thead th {\n",
       "        text-align: right;\n",
       "    }\n",
       "</style>\n",
       "<table border=\"1\" class=\"dataframe\">\n",
       "  <thead>\n",
       "    <tr style=\"text-align: right;\">\n",
       "      <th></th>\n",
       "      <th>mean_fit_time</th>\n",
       "      <th>std_fit_time</th>\n",
       "      <th>mean_score_time</th>\n",
       "      <th>std_score_time</th>\n",
       "      <th>param_gradientboostingclassifier__max_depth</th>\n",
       "      <th>param_gradientboostingclassifier__n_estimators</th>\n",
       "      <th>param_simpleimputer__strategy</th>\n",
       "      <th>params</th>\n",
       "      <th>split0_test_score</th>\n",
       "      <th>split1_test_score</th>\n",
       "      <th>split2_test_score</th>\n",
       "      <th>split3_test_score</th>\n",
       "      <th>split4_test_score</th>\n",
       "      <th>mean_test_score</th>\n",
       "      <th>std_test_score</th>\n",
       "      <th>rank_test_score</th>\n",
       "    </tr>\n",
       "  </thead>\n",
       "  <tbody>\n",
       "    <tr>\n",
       "      <th>16</th>\n",
       "      <td>5.785408</td>\n",
       "      <td>0.162590</td>\n",
       "      <td>0.006818</td>\n",
       "      <td>0.001318</td>\n",
       "      <td>4</td>\n",
       "      <td>30</td>\n",
       "      <td>mean</td>\n",
       "      <td>{'gradientboostingclassifier__max_depth': 4, '...</td>\n",
       "      <td>0.930240</td>\n",
       "      <td>0.913129</td>\n",
       "      <td>0.913458</td>\n",
       "      <td>0.925962</td>\n",
       "      <td>0.911455</td>\n",
       "      <td>0.918849</td>\n",
       "      <td>0.007705</td>\n",
       "      <td>1</td>\n",
       "    </tr>\n",
       "    <tr>\n",
       "      <th>17</th>\n",
       "      <td>5.644468</td>\n",
       "      <td>0.050552</td>\n",
       "      <td>0.007281</td>\n",
       "      <td>0.002567</td>\n",
       "      <td>4</td>\n",
       "      <td>30</td>\n",
       "      <td>median</td>\n",
       "      <td>{'gradientboostingclassifier__max_depth': 4, '...</td>\n",
       "      <td>0.915762</td>\n",
       "      <td>0.897006</td>\n",
       "      <td>0.909181</td>\n",
       "      <td>0.915762</td>\n",
       "      <td>0.911455</td>\n",
       "      <td>0.909833</td>\n",
       "      <td>0.006898</td>\n",
       "      <td>2</td>\n",
       "    </tr>\n",
       "    <tr>\n",
       "      <th>14</th>\n",
       "      <td>5.011922</td>\n",
       "      <td>0.101110</td>\n",
       "      <td>0.007421</td>\n",
       "      <td>0.001645</td>\n",
       "      <td>4</td>\n",
       "      <td>25</td>\n",
       "      <td>mean</td>\n",
       "      <td>{'gradientboostingclassifier__max_depth': 4, '...</td>\n",
       "      <td>0.916749</td>\n",
       "      <td>0.899638</td>\n",
       "      <td>0.898322</td>\n",
       "      <td>0.909181</td>\n",
       "      <td>0.895655</td>\n",
       "      <td>0.903909</td>\n",
       "      <td>0.007877</td>\n",
       "      <td>3</td>\n",
       "    </tr>\n",
       "    <tr>\n",
       "      <th>15</th>\n",
       "      <td>4.992399</td>\n",
       "      <td>0.246169</td>\n",
       "      <td>0.006954</td>\n",
       "      <td>0.000530</td>\n",
       "      <td>4</td>\n",
       "      <td>25</td>\n",
       "      <td>median</td>\n",
       "      <td>{'gradientboostingclassifier__max_depth': 4, '...</td>\n",
       "      <td>0.906219</td>\n",
       "      <td>0.889108</td>\n",
       "      <td>0.895031</td>\n",
       "      <td>0.897993</td>\n",
       "      <td>0.902238</td>\n",
       "      <td>0.898118</td>\n",
       "      <td>0.005888</td>\n",
       "      <td>4</td>\n",
       "    </tr>\n",
       "    <tr>\n",
       "      <th>12</th>\n",
       "      <td>4.286886</td>\n",
       "      <td>0.152849</td>\n",
       "      <td>0.007072</td>\n",
       "      <td>0.001104</td>\n",
       "      <td>4</td>\n",
       "      <td>20</td>\n",
       "      <td>mean</td>\n",
       "      <td>{'gradientboostingclassifier__max_depth': 4, '...</td>\n",
       "      <td>0.901941</td>\n",
       "      <td>0.888450</td>\n",
       "      <td>0.884501</td>\n",
       "      <td>0.896677</td>\n",
       "      <td>0.872284</td>\n",
       "      <td>0.888771</td>\n",
       "      <td>0.010258</td>\n",
       "      <td>5</td>\n",
       "    </tr>\n",
       "    <tr>\n",
       "      <th>13</th>\n",
       "      <td>4.283405</td>\n",
       "      <td>0.217841</td>\n",
       "      <td>0.005722</td>\n",
       "      <td>0.000398</td>\n",
       "      <td>4</td>\n",
       "      <td>20</td>\n",
       "      <td>median</td>\n",
       "      <td>{'gradientboostingclassifier__max_depth': 4, '...</td>\n",
       "      <td>0.892399</td>\n",
       "      <td>0.878578</td>\n",
       "      <td>0.885160</td>\n",
       "      <td>0.879237</td>\n",
       "      <td>0.883476</td>\n",
       "      <td>0.883770</td>\n",
       "      <td>0.004980</td>\n",
       "      <td>6</td>\n",
       "    </tr>\n",
       "    <tr>\n",
       "      <th>10</th>\n",
       "      <td>4.601521</td>\n",
       "      <td>0.022702</td>\n",
       "      <td>0.005891</td>\n",
       "      <td>0.000330</td>\n",
       "      <td>3</td>\n",
       "      <td>30</td>\n",
       "      <td>mean</td>\n",
       "      <td>{'gradientboostingclassifier__max_depth': 3, '...</td>\n",
       "      <td>0.874630</td>\n",
       "      <td>0.877591</td>\n",
       "      <td>0.869365</td>\n",
       "      <td>0.866074</td>\n",
       "      <td>0.866359</td>\n",
       "      <td>0.870804</td>\n",
       "      <td>0.004580</td>\n",
       "      <td>7</td>\n",
       "    </tr>\n",
       "    <tr>\n",
       "      <th>8</th>\n",
       "      <td>3.873693</td>\n",
       "      <td>0.169094</td>\n",
       "      <td>0.005792</td>\n",
       "      <td>0.000454</td>\n",
       "      <td>3</td>\n",
       "      <td>25</td>\n",
       "      <td>mean</td>\n",
       "      <td>{'gradientboostingclassifier__max_depth': 3, '...</td>\n",
       "      <td>0.862126</td>\n",
       "      <td>0.864758</td>\n",
       "      <td>0.858506</td>\n",
       "      <td>0.857519</td>\n",
       "      <td>0.855826</td>\n",
       "      <td>0.859747</td>\n",
       "      <td>0.003245</td>\n",
       "      <td>8</td>\n",
       "    </tr>\n",
       "    <tr>\n",
       "      <th>11</th>\n",
       "      <td>4.769110</td>\n",
       "      <td>0.170987</td>\n",
       "      <td>0.006729</td>\n",
       "      <td>0.001118</td>\n",
       "      <td>3</td>\n",
       "      <td>30</td>\n",
       "      <td>median</td>\n",
       "      <td>{'gradientboostingclassifier__max_depth': 3, '...</td>\n",
       "      <td>0.863442</td>\n",
       "      <td>0.858506</td>\n",
       "      <td>0.846331</td>\n",
       "      <td>0.862126</td>\n",
       "      <td>0.850889</td>\n",
       "      <td>0.856259</td>\n",
       "      <td>0.006610</td>\n",
       "      <td>9</td>\n",
       "    </tr>\n",
       "    <tr>\n",
       "      <th>6</th>\n",
       "      <td>3.198209</td>\n",
       "      <td>0.076996</td>\n",
       "      <td>0.005949</td>\n",
       "      <td>0.000660</td>\n",
       "      <td>3</td>\n",
       "      <td>20</td>\n",
       "      <td>mean</td>\n",
       "      <td>{'gradientboostingclassifier__max_depth': 3, '...</td>\n",
       "      <td>0.848634</td>\n",
       "      <td>0.844686</td>\n",
       "      <td>0.847318</td>\n",
       "      <td>0.844357</td>\n",
       "      <td>0.853851</td>\n",
       "      <td>0.847769</td>\n",
       "      <td>0.003438</td>\n",
       "      <td>10</td>\n",
       "    </tr>\n",
       "  </tbody>\n",
       "</table>\n",
       "</div>"
      ],
      "text/plain": [
       "    mean_fit_time  std_fit_time  mean_score_time  std_score_time  \\\n",
       "16       5.785408      0.162590         0.006818        0.001318   \n",
       "17       5.644468      0.050552         0.007281        0.002567   \n",
       "14       5.011922      0.101110         0.007421        0.001645   \n",
       "15       4.992399      0.246169         0.006954        0.000530   \n",
       "12       4.286886      0.152849         0.007072        0.001104   \n",
       "13       4.283405      0.217841         0.005722        0.000398   \n",
       "10       4.601521      0.022702         0.005891        0.000330   \n",
       "8        3.873693      0.169094         0.005792        0.000454   \n",
       "11       4.769110      0.170987         0.006729        0.001118   \n",
       "6        3.198209      0.076996         0.005949        0.000660   \n",
       "\n",
       "   param_gradientboostingclassifier__max_depth  \\\n",
       "16                                           4   \n",
       "17                                           4   \n",
       "14                                           4   \n",
       "15                                           4   \n",
       "12                                           4   \n",
       "13                                           4   \n",
       "10                                           3   \n",
       "8                                            3   \n",
       "11                                           3   \n",
       "6                                            3   \n",
       "\n",
       "   param_gradientboostingclassifier__n_estimators  \\\n",
       "16                                             30   \n",
       "17                                             30   \n",
       "14                                             25   \n",
       "15                                             25   \n",
       "12                                             20   \n",
       "13                                             20   \n",
       "10                                             30   \n",
       "8                                              25   \n",
       "11                                             30   \n",
       "6                                              20   \n",
       "\n",
       "   param_simpleimputer__strategy  \\\n",
       "16                          mean   \n",
       "17                        median   \n",
       "14                          mean   \n",
       "15                        median   \n",
       "12                          mean   \n",
       "13                        median   \n",
       "10                          mean   \n",
       "8                           mean   \n",
       "11                        median   \n",
       "6                           mean   \n",
       "\n",
       "                                               params  split0_test_score  \\\n",
       "16  {'gradientboostingclassifier__max_depth': 4, '...           0.930240   \n",
       "17  {'gradientboostingclassifier__max_depth': 4, '...           0.915762   \n",
       "14  {'gradientboostingclassifier__max_depth': 4, '...           0.916749   \n",
       "15  {'gradientboostingclassifier__max_depth': 4, '...           0.906219   \n",
       "12  {'gradientboostingclassifier__max_depth': 4, '...           0.901941   \n",
       "13  {'gradientboostingclassifier__max_depth': 4, '...           0.892399   \n",
       "10  {'gradientboostingclassifier__max_depth': 3, '...           0.874630   \n",
       "8   {'gradientboostingclassifier__max_depth': 3, '...           0.862126   \n",
       "11  {'gradientboostingclassifier__max_depth': 3, '...           0.863442   \n",
       "6   {'gradientboostingclassifier__max_depth': 3, '...           0.848634   \n",
       "\n",
       "    split1_test_score  split2_test_score  split3_test_score  \\\n",
       "16           0.913129           0.913458           0.925962   \n",
       "17           0.897006           0.909181           0.915762   \n",
       "14           0.899638           0.898322           0.909181   \n",
       "15           0.889108           0.895031           0.897993   \n",
       "12           0.888450           0.884501           0.896677   \n",
       "13           0.878578           0.885160           0.879237   \n",
       "10           0.877591           0.869365           0.866074   \n",
       "8            0.864758           0.858506           0.857519   \n",
       "11           0.858506           0.846331           0.862126   \n",
       "6            0.844686           0.847318           0.844357   \n",
       "\n",
       "    split4_test_score  mean_test_score  std_test_score  rank_test_score  \n",
       "16           0.911455         0.918849        0.007705                1  \n",
       "17           0.911455         0.909833        0.006898                2  \n",
       "14           0.895655         0.903909        0.007877                3  \n",
       "15           0.902238         0.898118        0.005888                4  \n",
       "12           0.872284         0.888771        0.010258                5  \n",
       "13           0.883476         0.883770        0.004980                6  \n",
       "10           0.866359         0.870804        0.004580                7  \n",
       "8            0.855826         0.859747        0.003245                8  \n",
       "11           0.850889         0.856259        0.006610                9  \n",
       "6            0.853851         0.847769        0.003438               10  "
      ]
     },
     "execution_count": 13,
     "metadata": {},
     "output_type": "execute_result"
    }
   ],
   "source": [
    "# Extract the cross-validation results from model and load them into a DataFrame named cv_results.\n",
    "results = pd.DataFrame(model.cv_results_)\n",
    "results.sort_values(\"rank_test_score\").head(10)"
   ]
  },
  {
   "attachments": {},
   "cell_type": "markdown",
   "metadata": {},
   "source": [
    "There's quite a few hyperparameters here, so I'll pull out the ones that work best for the model."
   ]
  },
  {
   "cell_type": "code",
   "execution_count": 14,
   "metadata": {},
   "outputs": [
    {
     "data": {
      "text/plain": [
       "{'gradientboostingclassifier__max_depth': 4,\n",
       " 'gradientboostingclassifier__n_estimators': 30,\n",
       " 'simpleimputer__strategy': 'mean'}"
      ]
     },
     "execution_count": 14,
     "metadata": {},
     "output_type": "execute_result"
    }
   ],
   "source": [
    "# Extract best hyperparameters\n",
    "model.best_params_"
   ]
  },
  {
   "attachments": {},
   "cell_type": "markdown",
   "metadata": {},
   "source": [
    "# Evaluate"
   ]
  },
  {
   "cell_type": "code",
   "execution_count": 15,
   "metadata": {},
   "outputs": [
    {
     "name": "stdout",
     "output_type": "stream",
     "text": [
      "Training Accuracy: 0.9265\n",
      "Validation Accuracy: 0.8803\n"
     ]
    }
   ],
   "source": [
    "# calculate the training and test accuarcy scores for the model\n",
    "acc_train = model.score(X_train_over, y_train_over)\n",
    "acc_test = model.score(X_test, y_test)\n",
    "\n",
    "\n",
    "print(\"Training Accuracy:\", round(acc_train, 4))\n",
    "print(\"Validation Accuracy:\", round(acc_test, 4))"
   ]
  },
  {
   "attachments": {},
   "cell_type": "markdown",
   "metadata": {},
   "source": [
    "Just like before, I'll  make a confusion matrix to see how the model is making its correct and incorrect predictions."
   ]
  },
  {
   "cell_type": "code",
   "execution_count": 16,
   "metadata": {},
   "outputs": [
    {
     "data": {
      "text/plain": [
       "False    1913\n",
       "True       83\n",
       "Name: bankrupt, dtype: int64"
      ]
     },
     "execution_count": 16,
     "metadata": {},
     "output_type": "execute_result"
    }
   ],
   "source": [
    "y_test.value_counts()"
   ]
  },
  {
   "cell_type": "code",
   "execution_count": 17,
   "metadata": {},
   "outputs": [
    {
     "data": {
      "image/png": "[encoded data removed]",
      "text/plain": [
       "<Figure size 640x480 with 2 Axes>"
      ]
     },
     "metadata": {},
     "output_type": "display_data"
    }
   ],
   "source": [
    "# Plot confusion matrix\n",
    "ConfusionMatrixDisplay.from_estimator(model, X_test, y_test);"
   ]
  },
  {
   "attachments": {},
   "cell_type": "markdown",
   "metadata": {},
   "source": [
    "This matrix is a great reminder of how imbalanced the data is, and of why accuracy isn't always the best metric for judging whether or not a model is giving us what we want. After all, if 95% of the companies in the dataset didn't go bankrupt, all the model has to do is always predict `{\"bankrupt\": False}`, and it'll be right 95% of the time. The accuracy score will be amazing, but it won't tell us what we really need to know.\n",
    "\n",
    "Instead, I can evaluate the model using two new metrics: **precision** and **recall**.  The precision score is important when we want our model to only predict that a company will go bankrupt if its very confident in its prediction. The *recall* score is important if we want to make sure to identify all the companies that will go bankrupt, even if that means being incorrect sometimes. \n"
   ]
  },
  {
   "cell_type": "code",
   "execution_count": 18,
   "metadata": {},
   "outputs": [
    {
     "name": "stdout",
     "output_type": "stream",
     "text": [
      "              precision    recall  f1-score   support\n",
      "\n",
      "       False       0.99      0.89      0.93      1913\n",
      "        True       0.22      0.76      0.35        83\n",
      "\n",
      "    accuracy                           0.88      1996\n",
      "   macro avg       0.61      0.82      0.64      1996\n",
      "weighted avg       0.96      0.88      0.91      1996\n",
      "\n"
     ]
    }
   ],
   "source": [
    "# Print the classification report for the model, using the test set.\n",
    "print(classification_report(y_test, model.predict(X_test)))"
   ]
  },
  {
   "attachments": {},
   "cell_type": "markdown",
   "metadata": {},
   "source": [
    "The precision for the false class is 0.99, which means that when the model predicts a company is not bankrupt, it is correct 99% of the time. The recall for the false class is 0.89, which means that when a company is actually not bankrupt, the model correctly identifies it 89% of the time.\n",
    "\n",
    "The precision for the True class \"1\" is 0.22, which means that when the model predicts a company is bankrupt, it is correct 22% of the time. The recall for the true class is 0.76, which means that the model identifies 76% of the bankrupt companies correctly.\n",
    "\n",
    "The F1-score is a weighted harmonic mean of precision and recall. The F1-score for the false class is 0.93, indicating a high level of accuracy, while the F1-score for the true class is 0.35, indicating that the model's performance is relatively poor for this class.\n",
    "\n",
    "The overall accuracy of the model is 0.88, meaning that it correctly identifies the class of a company 88% of the time. The macro average F1-score is 0.64, which provides a balanced view of the model's performance across both classes. The weighted average F1-score is 0.91, taking into account the fact that the negative class \"0\" has a much larger number of samples than the positive class."
   ]
  },
  {
   "cell_type": "code",
   "execution_count": 27,
   "metadata": {},
   "outputs": [
    {
     "data": {
      "application/vnd.jupyter.widget-view+json": {
       "model_id": "58cd30d9e7354970bc395302a537038d",
       "version_major": 2,
       "version_minor": 0
      },
      "text/plain": [
       "FloatSlider(value=0.5, continuous_update=False, description='Threshold:', max=1.0)"
      ]
     },
     "metadata": {},
     "output_type": "display_data"
    },
    {
     "data": {
      "application/vnd.jupyter.widget-view+json": {
       "model_id": "bca54571a5074630b8c3280252f33334",
       "version_major": 2,
       "version_minor": 0
      },
      "text/plain": [
       "HBox(children=(Output(layout=Layout(height='300px', width='300px')), VBox(children=(Output(layout=Layout(heigh…"
      ]
     },
     "metadata": {},
     "output_type": "display_data"
    }
   ],
   "source": [
    "c = ConfusionMatrixWidget(model, X_test, y_test)\n",
    "c.show()"
   ]
  },
  {
   "attachments": {},
   "cell_type": "markdown",
   "metadata": {},
   "source": [
    "Next I'll create an interactive dashboard that shows how company profit and losses change in relationship to the model's probability threshold. Starting with the make_cnf_matrix function, which should calculate and print profit/losses, and displaying a confusion matrix. Then I'll create a FloatSlider thresh_widget that ranges from 0 to 1. And then finally I'll combine the function and slider in the interact function."
   ]
  },
  {
   "attachments": {},
   "cell_type": "markdown",
   "metadata": {},
   "source": [
    "If you move the probability threshold, you can see that there's a tradeoff between precision and recall. That is, as one gets better, the other suffers. As a data scientist, you'll often need to decide whether you want a model with better precision or better recall. What you choose will depend on how to intend to use your model."
   ]
  },
  {
   "cell_type": "code",
   "execution_count": 37,
   "metadata": {},
   "outputs": [
    {
     "data": {
      "application/vnd.jupyter.widget-view+json": {
       "model_id": "6aea4927d3d44b66a57f0f5de1b3f4a0",
       "version_major": 2,
       "version_minor": 0
      },
      "text/plain": [
       "interactive(children=(FloatSlider(value=0.5, description='threshold', max=1.0, step=0.05), Output()), _dom_cla…"
      ]
     },
     "metadata": {},
     "output_type": "display_data"
    }
   ],
   "source": [
    "def make_cnf_matrix(threshold):\n",
    "    y_pred_proba = model.predict_proba(X_test)[:, -1]\n",
    "    y_pred = y_pred_proba > threshold\n",
    "    conf_matrix = confusion_matrix(y_test, y_pred)\n",
    "    tn, fp, fn, tp = conf_matrix.ravel()\n",
    "    print(f\"Profit:  €{tp * 100_000_000}\")\n",
    "    print(f\"Losses:  €{tp * 250_000_000}\")\n",
    "    ConfusionMatrixDisplay.from_predictions(y_test, y_pred, colorbar=False)\n",
    "\n",
    "\n",
    "thresh_widget = widgets.FloatSlider(min=0, max=1, value=0.5, step=0.05)\n",
    "\n",
    "interact(make_cnf_matrix, threshold=thresh_widget);"
   ]
  },
  {
   "attachments": {},
   "cell_type": "markdown",
   "metadata": {},
   "source": [
    "# Communicate"
   ]
  },
  {
   "cell_type": "code",
   "execution_count": 38,
   "metadata": {},
   "outputs": [],
   "source": [
    "# Using a context manager, save the best-performing model to a file named \"gradient_boosting.pkl\".\n",
    "with open(\"gradient_boosting.pkl\", \"wb\") as f:\n",
    "    pickle.dump(model, f)\n"
   ]
  }
 ],
 "metadata": {
  "kernelspec": {
   "display_name": "ML",
   "language": "python",
   "name": "python3"
  },
  "language_info": {
   "codemirror_mode": {
    "name": "ipython",
    "version": 3
   },
   "file_extension": ".py",
   "mimetype": "text/x-python",
   "name": "python",
   "nbconvert_exporter": "python",
   "pygments_lexer": "ipython3",
   "version": "3.10.5"
  },
  "orig_nbformat": 4
 },
 "nbformat": 4,
 "nbformat_minor": 2
}
