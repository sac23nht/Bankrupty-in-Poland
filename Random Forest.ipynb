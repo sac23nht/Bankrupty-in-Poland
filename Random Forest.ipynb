{
 "cells": [
  {
   "attachments": {},
   "cell_type": "markdown",
   "metadata": {},
   "source": [
    "Here, I'm going to explore some of the features of the dataset, use visualizations to help understand those features, and develop a model that solves the problem of imbalanced data by under- and over-sampling."
   ]
  },
  {
   "cell_type": "code",
   "execution_count": 1,
   "metadata": {},
   "outputs": [],
   "source": [
    "# import libraries\n",
    "import gzip\n",
    "import json\n",
    "import pickle\n",
    "\n",
    "import matplotlib.pyplot as plt\n",
    "import pandas as pd\n",
    "import seaborn as sns\n",
    "from imblearn.over_sampling import RandomOverSampler\n",
    "from imblearn.under_sampling import RandomUnderSampler\n",
    "from IPython.display import VimeoVideo\n",
    "from sklearn.impute import SimpleImputer\n",
    "from sklearn.metrics import ConfusionMatrixDisplay\n",
    "from sklearn.model_selection import train_test_split\n",
    "from sklearn.pipeline import make_pipeline\n",
    "from sklearn.tree import DecisionTreeClassifier\n"
   ]
  },
  {
   "attachments": {},
   "cell_type": "markdown",
   "metadata": {},
   "source": [
    "# Prepare Data\n",
    "\n",
    "## Import"
   ]
  },
  {
   "cell_type": "code",
   "execution_count": 2,
   "metadata": {},
   "outputs": [],
   "source": [
    "def wrangle(filename):\n",
    "    \n",
    "    # Open compressed file, load into dictionary\n",
    "    with gzip.open(filename, \"r\") as f:\n",
    "        data = json.load(f)\n",
    "     \n",
    "    # Load dictionary into DataFrame, set index\n",
    "    df = pd.DataFrame().from_dict(data[\"data\"]).set_index(\"company_id\")\n",
    "    \n",
    "    return df"
   ]
  },
  {
   "cell_type": "code",
   "execution_count": 3,
   "metadata": {},
   "outputs": [
    {
     "name": "stdout",
     "output_type": "stream",
     "text": [
      "(9977, 65)\n"
     ]
    },
    {
     "data": {
      "text/html": [
       "<div>\n",
       "<style scoped>\n",
       "    .dataframe tbody tr th:only-of-type {\n",
       "        vertical-align: middle;\n",
       "    }\n",
       "\n",
       "    .dataframe tbody tr th {\n",
       "        vertical-align: top;\n",
       "    }\n",
       "\n",
       "    .dataframe thead th {\n",
       "        text-align: right;\n",
       "    }\n",
       "</style>\n",
       "<table border=\"1\" class=\"dataframe\">\n",
       "  <thead>\n",
       "    <tr style=\"text-align: right;\">\n",
       "      <th></th>\n",
       "      <th>feat_1</th>\n",
       "      <th>feat_2</th>\n",
       "      <th>feat_3</th>\n",
       "      <th>feat_4</th>\n",
       "      <th>feat_5</th>\n",
       "      <th>feat_6</th>\n",
       "      <th>feat_7</th>\n",
       "      <th>feat_8</th>\n",
       "      <th>feat_9</th>\n",
       "      <th>feat_10</th>\n",
       "      <th>...</th>\n",
       "      <th>feat_56</th>\n",
       "      <th>feat_57</th>\n",
       "      <th>feat_58</th>\n",
       "      <th>feat_59</th>\n",
       "      <th>feat_60</th>\n",
       "      <th>feat_61</th>\n",
       "      <th>feat_62</th>\n",
       "      <th>feat_63</th>\n",
       "      <th>feat_64</th>\n",
       "      <th>bankrupt</th>\n",
       "    </tr>\n",
       "    <tr>\n",
       "      <th>company_id</th>\n",
       "      <th></th>\n",
       "      <th></th>\n",
       "      <th></th>\n",
       "      <th></th>\n",
       "      <th></th>\n",
       "      <th></th>\n",
       "      <th></th>\n",
       "      <th></th>\n",
       "      <th></th>\n",
       "      <th></th>\n",
       "      <th></th>\n",
       "      <th></th>\n",
       "      <th></th>\n",
       "      <th></th>\n",
       "      <th></th>\n",
       "      <th></th>\n",
       "      <th></th>\n",
       "      <th></th>\n",
       "      <th></th>\n",
       "      <th></th>\n",
       "      <th></th>\n",
       "    </tr>\n",
       "  </thead>\n",
       "  <tbody>\n",
       "    <tr>\n",
       "      <th>1</th>\n",
       "      <td>0.174190</td>\n",
       "      <td>0.41299</td>\n",
       "      <td>0.14371</td>\n",
       "      <td>1.3480</td>\n",
       "      <td>-28.9820</td>\n",
       "      <td>0.60383</td>\n",
       "      <td>0.219460</td>\n",
       "      <td>1.12250</td>\n",
       "      <td>1.1961</td>\n",
       "      <td>0.46359</td>\n",
       "      <td>...</td>\n",
       "      <td>0.163960</td>\n",
       "      <td>0.375740</td>\n",
       "      <td>0.83604</td>\n",
       "      <td>0.000007</td>\n",
       "      <td>9.7145</td>\n",
       "      <td>6.2813</td>\n",
       "      <td>84.291</td>\n",
       "      <td>4.3303</td>\n",
       "      <td>4.0341</td>\n",
       "      <td>False</td>\n",
       "    </tr>\n",
       "    <tr>\n",
       "      <th>2</th>\n",
       "      <td>0.146240</td>\n",
       "      <td>0.46038</td>\n",
       "      <td>0.28230</td>\n",
       "      <td>1.6294</td>\n",
       "      <td>2.5952</td>\n",
       "      <td>0.00000</td>\n",
       "      <td>0.171850</td>\n",
       "      <td>1.17210</td>\n",
       "      <td>1.6018</td>\n",
       "      <td>0.53962</td>\n",
       "      <td>...</td>\n",
       "      <td>0.027516</td>\n",
       "      <td>0.271000</td>\n",
       "      <td>0.90108</td>\n",
       "      <td>0.000000</td>\n",
       "      <td>5.9882</td>\n",
       "      <td>4.1103</td>\n",
       "      <td>102.190</td>\n",
       "      <td>3.5716</td>\n",
       "      <td>5.9500</td>\n",
       "      <td>False</td>\n",
       "    </tr>\n",
       "    <tr>\n",
       "      <th>3</th>\n",
       "      <td>0.000595</td>\n",
       "      <td>0.22612</td>\n",
       "      <td>0.48839</td>\n",
       "      <td>3.1599</td>\n",
       "      <td>84.8740</td>\n",
       "      <td>0.19114</td>\n",
       "      <td>0.004572</td>\n",
       "      <td>2.98810</td>\n",
       "      <td>1.0077</td>\n",
       "      <td>0.67566</td>\n",
       "      <td>...</td>\n",
       "      <td>0.007639</td>\n",
       "      <td>0.000881</td>\n",
       "      <td>0.99236</td>\n",
       "      <td>0.000000</td>\n",
       "      <td>6.7742</td>\n",
       "      <td>3.7922</td>\n",
       "      <td>64.846</td>\n",
       "      <td>5.6287</td>\n",
       "      <td>4.4581</td>\n",
       "      <td>False</td>\n",
       "    </tr>\n",
       "    <tr>\n",
       "      <th>5</th>\n",
       "      <td>0.188290</td>\n",
       "      <td>0.41504</td>\n",
       "      <td>0.34231</td>\n",
       "      <td>1.9279</td>\n",
       "      <td>-58.2740</td>\n",
       "      <td>0.00000</td>\n",
       "      <td>0.233580</td>\n",
       "      <td>1.40940</td>\n",
       "      <td>1.3393</td>\n",
       "      <td>0.58496</td>\n",
       "      <td>...</td>\n",
       "      <td>0.176480</td>\n",
       "      <td>0.321880</td>\n",
       "      <td>0.82635</td>\n",
       "      <td>0.073039</td>\n",
       "      <td>2.5912</td>\n",
       "      <td>7.0756</td>\n",
       "      <td>100.540</td>\n",
       "      <td>3.6303</td>\n",
       "      <td>4.6375</td>\n",
       "      <td>False</td>\n",
       "    </tr>\n",
       "    <tr>\n",
       "      <th>6</th>\n",
       "      <td>0.182060</td>\n",
       "      <td>0.55615</td>\n",
       "      <td>0.32191</td>\n",
       "      <td>1.6045</td>\n",
       "      <td>16.3140</td>\n",
       "      <td>0.00000</td>\n",
       "      <td>0.182060</td>\n",
       "      <td>0.79808</td>\n",
       "      <td>1.8126</td>\n",
       "      <td>0.44385</td>\n",
       "      <td>...</td>\n",
       "      <td>0.555770</td>\n",
       "      <td>0.410190</td>\n",
       "      <td>0.46957</td>\n",
       "      <td>0.029421</td>\n",
       "      <td>8.4553</td>\n",
       "      <td>3.3488</td>\n",
       "      <td>107.240</td>\n",
       "      <td>3.4036</td>\n",
       "      <td>12.4540</td>\n",
       "      <td>False</td>\n",
       "    </tr>\n",
       "  </tbody>\n",
       "</table>\n",
       "<p>5 rows × 65 columns</p>\n",
       "</div>"
      ],
      "text/plain": [
       "              feat_1   feat_2   feat_3  feat_4   feat_5   feat_6    feat_7  \\\n",
       "company_id                                                                   \n",
       "1           0.174190  0.41299  0.14371  1.3480 -28.9820  0.60383  0.219460   \n",
       "2           0.146240  0.46038  0.28230  1.6294   2.5952  0.00000  0.171850   \n",
       "3           0.000595  0.22612  0.48839  3.1599  84.8740  0.19114  0.004572   \n",
       "5           0.188290  0.41504  0.34231  1.9279 -58.2740  0.00000  0.233580   \n",
       "6           0.182060  0.55615  0.32191  1.6045  16.3140  0.00000  0.182060   \n",
       "\n",
       "             feat_8  feat_9  feat_10  ...   feat_56   feat_57  feat_58  \\\n",
       "company_id                            ...                                \n",
       "1           1.12250  1.1961  0.46359  ...  0.163960  0.375740  0.83604   \n",
       "2           1.17210  1.6018  0.53962  ...  0.027516  0.271000  0.90108   \n",
       "3           2.98810  1.0077  0.67566  ...  0.007639  0.000881  0.99236   \n",
       "5           1.40940  1.3393  0.58496  ...  0.176480  0.321880  0.82635   \n",
       "6           0.79808  1.8126  0.44385  ...  0.555770  0.410190  0.46957   \n",
       "\n",
       "             feat_59  feat_60  feat_61  feat_62  feat_63  feat_64  bankrupt  \n",
       "company_id                                                                   \n",
       "1           0.000007   9.7145   6.2813   84.291   4.3303   4.0341     False  \n",
       "2           0.000000   5.9882   4.1103  102.190   3.5716   5.9500     False  \n",
       "3           0.000000   6.7742   3.7922   64.846   5.6287   4.4581     False  \n",
       "5           0.073039   2.5912   7.0756  100.540   3.6303   4.6375     False  \n",
       "6           0.029421   8.4553   3.3488  107.240   3.4036  12.4540     False  \n",
       "\n",
       "[5 rows x 65 columns]"
      ]
     },
     "execution_count": 3,
     "metadata": {},
     "output_type": "execute_result"
    }
   ],
   "source": [
    "df = wrangle(\"poland-bankruptcy-data-2009.json.gz\")\n",
    "print(df.shape)\n",
    "df.head()"
   ]
  },
  {
   "attachments": {},
   "cell_type": "markdown",
   "metadata": {},
   "source": [
    "# Explore"
   ]
  },
  {
   "cell_type": "code",
   "execution_count": 5,
   "metadata": {},
   "outputs": [
    {
     "name": "stdout",
     "output_type": "stream",
     "text": [
      "<class 'pandas.core.frame.DataFrame'>\n",
      "Int64Index: 9977 entries, 1 to 10503\n",
      "Data columns (total 65 columns):\n",
      " #   Column    Non-Null Count  Dtype  \n",
      "---  ------    --------------  -----  \n",
      " 0   feat_1    9977 non-null   float64\n",
      " 1   feat_2    9977 non-null   float64\n",
      " 2   feat_3    9977 non-null   float64\n",
      " 3   feat_4    9960 non-null   float64\n",
      " 4   feat_5    9952 non-null   float64\n",
      " 5   feat_6    9977 non-null   float64\n",
      " 6   feat_7    9977 non-null   float64\n",
      " 7   feat_8    9964 non-null   float64\n",
      " 8   feat_9    9974 non-null   float64\n",
      " 9   feat_10   9977 non-null   float64\n",
      " 10  feat_11   9977 non-null   float64\n",
      " 11  feat_12   9960 non-null   float64\n",
      " 12  feat_13   9935 non-null   float64\n",
      " 13  feat_14   9977 non-null   float64\n",
      " 14  feat_15   9970 non-null   float64\n",
      " 15  feat_16   9964 non-null   float64\n",
      " 16  feat_17   9964 non-null   float64\n",
      " 17  feat_18   9977 non-null   float64\n",
      " 18  feat_19   9935 non-null   float64\n",
      " 19  feat_20   9935 non-null   float64\n",
      " 20  feat_21   9205 non-null   float64\n",
      " 21  feat_22   9977 non-null   float64\n",
      " 22  feat_23   9935 non-null   float64\n",
      " 23  feat_24   9764 non-null   float64\n",
      " 24  feat_25   9977 non-null   float64\n",
      " 25  feat_26   9964 non-null   float64\n",
      " 26  feat_27   9312 non-null   float64\n",
      " 27  feat_28   9765 non-null   float64\n",
      " 28  feat_29   9977 non-null   float64\n",
      " 29  feat_30   9935 non-null   float64\n",
      " 30  feat_31   9935 non-null   float64\n",
      " 31  feat_32   9881 non-null   float64\n",
      " 32  feat_33   9960 non-null   float64\n",
      " 33  feat_34   9964 non-null   float64\n",
      " 34  feat_35   9977 non-null   float64\n",
      " 35  feat_36   9977 non-null   float64\n",
      " 36  feat_37   5499 non-null   float64\n",
      " 37  feat_38   9977 non-null   float64\n",
      " 38  feat_39   9935 non-null   float64\n",
      " 39  feat_40   9960 non-null   float64\n",
      " 40  feat_41   9787 non-null   float64\n",
      " 41  feat_42   9935 non-null   float64\n",
      " 42  feat_43   9935 non-null   float64\n",
      " 43  feat_44   9935 non-null   float64\n",
      " 44  feat_45   9416 non-null   float64\n",
      " 45  feat_46   9960 non-null   float64\n",
      " 46  feat_47   9896 non-null   float64\n",
      " 47  feat_48   9977 non-null   float64\n",
      " 48  feat_49   9935 non-null   float64\n",
      " 49  feat_50   9964 non-null   float64\n",
      " 50  feat_51   9977 non-null   float64\n",
      " 51  feat_52   9896 non-null   float64\n",
      " 52  feat_53   9765 non-null   float64\n",
      " 53  feat_54   9765 non-null   float64\n",
      " 54  feat_55   9977 non-null   float64\n",
      " 55  feat_56   9935 non-null   float64\n",
      " 56  feat_57   9977 non-null   float64\n",
      " 57  feat_58   9948 non-null   float64\n",
      " 58  feat_59   9977 non-null   float64\n",
      " 59  feat_60   9415 non-null   float64\n",
      " 60  feat_61   9961 non-null   float64\n",
      " 61  feat_62   9935 non-null   float64\n",
      " 62  feat_63   9960 non-null   float64\n",
      " 63  feat_64   9765 non-null   float64\n",
      " 64  bankrupt  9977 non-null   bool   \n",
      "dtypes: bool(1), float64(64)\n",
      "memory usage: 5.0 MB\n"
     ]
    }
   ],
   "source": [
    "# Inspect DataFrame\n",
    "df.info()"
   ]
  },
  {
   "attachments": {},
   "cell_type": "markdown",
   "metadata": {},
   "source": [
    "That's solid information. We know all our features are numerical and that we have missing data. But, as always, it's a good idea to do some visualizations to see if there are any interesting trends or ideas we should keep in mind while we work. First, let's take a look at how many firms are bankrupt, and how many are not."
   ]
  },
  {
   "cell_type": "code",
   "execution_count": 6,
   "metadata": {},
   "outputs": [
    {
     "data": {
      "image/png": "[encoded data removed]",
      "text/plain": [
       "<Figure size 640x480 with 1 Axes>"
      ]
     },
     "metadata": {},
     "output_type": "display_data"
    }
   ],
   "source": [
    "# Plot class balance\n",
    "df[\"bankrupt\"].value_counts(normalize=True).plot(\n",
    "    kind=\"bar\",\n",
    "    xlabel=\"Bankrupt\",\n",
    "    ylabel=\"Frequency\",\n",
    "    title=\"Class Balance\"\n",
    ");\n",
    "  "
   ]
  },
  {
   "attachments": {},
   "cell_type": "markdown",
   "metadata": {},
   "source": [
    "That's good news for Poland's economy! Since it looks like most of the companies in the dataset are doing all right for themselves, now I'll drill down a little farther. However, it also shows us that it is an imbalanced dataset, where the majority class is far bigger than the minority class."
   ]
  },
  {
   "attachments": {},
   "cell_type": "markdown",
   "metadata": {},
   "source": [
    "In the first noteboook, we saw that there were 64 features of each company, each of which had some kind of numerical value. It might be useful to understand where the values for one of these features cluster, so I'll make a boxplot to see how the values in \"feat_27\" are distributed."
   ]
  },
  {
   "cell_type": "code",
   "execution_count": 7,
   "metadata": {},
   "outputs": [
    {
     "data": {
      "image/png": "[encoded data removed]",
      "text/plain": [
       "<Figure size 640x480 with 1 Axes>"
      ]
     },
     "metadata": {},
     "output_type": "display_data"
    }
   ],
   "source": [
    "# Create boxplot\n",
    "sns.boxplot(x=\"bankrupt\", y=\"feat_27\", data=df)\n",
    "plt.xlabel(\"Bankrupt\")\n",
    "plt.ylabel(\"POA / financial expenses\")\n",
    "plt.title(\"Distribution of Profit/Expenses Ratio, by Class\");"
   ]
  },
  {
   "attachments": {},
   "cell_type": "markdown",
   "metadata": {},
   "source": [
    "boxplots exist to help us see the quartiles in a dataset, and this one doesn't really do that. I'll check the distribution of \"feat_27\"to see if I can figure out what's going on here."
   ]
  },
  {
   "cell_type": "code",
   "execution_count": 9,
   "metadata": {},
   "outputs": [
    {
     "data": {
      "text/plain": [
       "count        9,312\n",
       "mean         1,206\n",
       "std         35,477\n",
       "min       -190,130\n",
       "25%              0\n",
       "50%              1\n",
       "75%              5\n",
       "max      2,723,000\n",
       "Name: feat_27, dtype: object"
      ]
     },
     "execution_count": 9,
     "metadata": {},
     "output_type": "execute_result"
    }
   ],
   "source": [
    "# Summary statistics for `feat_27`\n",
    "df[\"feat_27\"].describe().apply(\"{0:,.0f}\".format)"
   ]
  },
  {
   "attachments": {},
   "cell_type": "markdown",
   "metadata": {},
   "source": [
    "The median is around 1, but the mean is over 1000. That suggests that this feature is skewed to the right. I'll make a histogram to see what the distribution actually looks like."
   ]
  },
  {
   "cell_type": "code",
   "execution_count": 10,
   "metadata": {},
   "outputs": [
    {
     "data": {
      "image/png": "[encoded data removed]",
      "text/plain": [
       "<Figure size 640x480 with 1 Axes>"
      ]
     },
     "metadata": {},
     "output_type": "display_data"
    }
   ],
   "source": [
    "# Plot histogram of `feat_27`\n",
    "df[\"feat_27\"].hist()\n",
    "plt.xlabel(\"POA / financial expenses\")\n",
    "plt.ylabel(\"Count\"),\n",
    "plt.title(\"Distribution of Profit/Expenses Ratio\");"
   ]
  },
  {
   "attachments": {},
   "cell_type": "markdown",
   "metadata": {},
   "source": [
    "The plot above confirms the data needs trimming."
   ]
  },
  {
   "cell_type": "code",
   "execution_count": 11,
   "metadata": {},
   "outputs": [
    {
     "data": {
      "text/plain": [
       "company_id\n",
       "1     True\n",
       "2    False\n",
       "3     True\n",
       "5    False\n",
       "6     True\n",
       "Name: feat_27, dtype: bool"
      ]
     },
     "execution_count": 11,
     "metadata": {},
     "output_type": "execute_result"
    }
   ],
   "source": [
    "q1, q9 = df[\"feat_27\"].quantile([0.1, 0.9])\n",
    "mask = df[\"feat_27\"].between(q1, q9)\n",
    "mask.head()"
   ]
  },
  {
   "attachments": {},
   "cell_type": "markdown",
   "metadata": {},
   "source": [
    "Now i'll recreate the boxplot that I made above, this time only using the values for \"feat_27\" that fall between the 0.1 and 0.9 quantiles for the column."
   ]
  },
  {
   "cell_type": "code",
   "execution_count": 12,
   "metadata": {},
   "outputs": [
    {
     "data": {
      "image/png": "[encoded data removed]",
      "text/plain": [
       "<Figure size 640x480 with 1 Axes>"
      ]
     },
     "metadata": {},
     "output_type": "display_data"
    }
   ],
   "source": [
    "# Create clipped boxplot\n",
    "q1, q9 = df[\"feat_27\"].quantile([0.1, 0.9])\n",
    "mask = df[\"feat_27\"].between(q1, q9)\n",
    "sns.boxplot(x=\"bankrupt\", y=\"feat_27\", data=df[mask])\n",
    "plt.xlabel(\"Bankrupt\")\n",
    "plt.ylabel(\"POA / financial expenses\")\n",
    "plt.title(\"Distribution of Profit/Expenses Ratio, by Bankruptcy Status\");"
   ]
  },
  {
   "cell_type": "markdown",
   "metadata": {},
   "source": [
    "<div class=\"alert alert-info\" role=\"alert\">\n",
    "    <p><b>More context on <code>\"feat_27\"</code>:</b> <em>Profit on operating activities</em> is profit that a company makes through its \"normal\" operations. For instance, a car company profits from the sale of its cars. However, a company may have other forms of profit, such as financial investments. So a company's <em>total profit</em> may be positive even when its profit on operating activities is negative.\n",
    "    <p><em>Financial expenses</em> include things like interest due on loans, and does not include \"normal\" expenses (like the money that a car company spends on raw materials to manufacture cars). \n",
    "   </div>"
   ]
  },
  {
   "attachments": {},
   "cell_type": "markdown",
   "metadata": {},
   "source": [
    "Considering how many features are in the dataset, I explored them seperately and most of them are skewed too. This will be important to keep in mind for model selection.\n",
    "It is also important to check for multicolinearity which is what I'll be doing next."
   ]
  },
  {
   "cell_type": "code",
   "execution_count": 15,
   "metadata": {},
   "outputs": [
    {
     "data": {
      "image/png": "[encoded data removed]",
      "text/plain": [
       "<Figure size 640x480 with 2 Axes>"
      ]
     },
     "metadata": {},
     "output_type": "display_data"
    }
   ],
   "source": [
    "corr = df.drop(columns=\"bankrupt\").corr()\n",
    "sns.heatmap(corr);"
   ]
  },
  {
   "attachments": {},
   "cell_type": "markdown",
   "metadata": {},
   "source": [
    "From this EDA... First, the data is imbalanced. This is something that needs to be addressed in the data preparation. Second, many of the features have missing values that weill need imputing. And since the features are highly skewed, the best imputation strategy is likely median, not mean. Finally, there's also autocorrelation issues, which means that we should steer clear of linear models, and try a tree-based model instead."
   ]
  },
  {
   "attachments": {},
   "cell_type": "markdown",
   "metadata": {},
   "source": [
    "\n",
    "# Split"
   ]
  },
  {
   "cell_type": "code",
   "execution_count": 16,
   "metadata": {},
   "outputs": [
    {
     "name": "stdout",
     "output_type": "stream",
     "text": [
      "X shape: (9977, 64)\n",
      "y shape: (9977,)\n"
     ]
    }
   ],
   "source": [
    "# Create feature matrix X and target vector y\n",
    "target = \"bankrupt\"\n",
    "X = df.drop(columns=\"bankrupt\")\n",
    "y = df[target]\n",
    "\n",
    "print(\"X shape:\", X.shape)\n",
    "print(\"y shape:\", y.shape)"
   ]
  },
  {
   "attachments": {},
   "cell_type": "markdown",
   "metadata": {},
   "source": [
    "In order to make sure that the model can generalize, I need to put aside a test set that I'll use to evaluate the model once it's trained."
   ]
  },
  {
   "cell_type": "code",
   "execution_count": 17,
   "metadata": {},
   "outputs": [
    {
     "name": "stdout",
     "output_type": "stream",
     "text": [
      "X_train shape: (7981, 64)\n",
      "y_train shape: (7981,)\n",
      "X_test shape: (1996, 64)\n",
      "y_test shape: (1996,)\n"
     ]
    }
   ],
   "source": [
    "X_train, X_test, y_train, y_test = train_test_split(\n",
    "    X, y, test_size=0.2, random_state=42\n",
    ")\n",
    "\n",
    "print(\"X_train shape:\", X_train.shape)\n",
    "print(\"y_train shape:\", y_train.shape)\n",
    "print(\"X_test shape:\", X_test.shape)\n",
    "print(\"y_test shape:\", y_test.shape)"
   ]
  },
  {
   "attachments": {},
   "cell_type": "markdown",
   "metadata": {},
   "source": [
    "# Resample"
   ]
  },
  {
   "attachments": {},
   "cell_type": "markdown",
   "metadata": {},
   "source": [
    "Now that I've split the data into training and testing sets, I can address the class imbalance we saw during the EDA. One strategy is to resample the training data. There are many to do this, but I'd like to start with under-sampling."
   ]
  },
  {
   "attachments": {},
   "cell_type": "markdown",
   "metadata": {},
   "source": [
    "When data is imbalanced in different classes, one way we can balance it is reducing the number of observations in the majority class. This is called **under-sampling**. We can under-sample by randomly deleting some observations in the majority class. The open source [imbalanced-learn](https://imbalanced-learn.org/stable/) (imported as `imblearn`) is an open-source library that works with `scikit-learn` and provides tools when dealing with imbalanced classes. Here's an example of randomly deleting observations from the majority class using Poland bankruptcy data from 2008."
   ]
  },
  {
   "cell_type": "code",
   "execution_count": 18,
   "metadata": {},
   "outputs": [
    {
     "name": "stdout",
     "output_type": "stream",
     "text": [
      "(768, 64)\n"
     ]
    },
    {
     "data": {
      "text/html": [
       "<div>\n",
       "<style scoped>\n",
       "    .dataframe tbody tr th:only-of-type {\n",
       "        vertical-align: middle;\n",
       "    }\n",
       "\n",
       "    .dataframe tbody tr th {\n",
       "        vertical-align: top;\n",
       "    }\n",
       "\n",
       "    .dataframe thead th {\n",
       "        text-align: right;\n",
       "    }\n",
       "</style>\n",
       "<table border=\"1\" class=\"dataframe\">\n",
       "  <thead>\n",
       "    <tr style=\"text-align: right;\">\n",
       "      <th></th>\n",
       "      <th>feat_1</th>\n",
       "      <th>feat_2</th>\n",
       "      <th>feat_3</th>\n",
       "      <th>feat_4</th>\n",
       "      <th>feat_5</th>\n",
       "      <th>feat_6</th>\n",
       "      <th>feat_7</th>\n",
       "      <th>feat_8</th>\n",
       "      <th>feat_9</th>\n",
       "      <th>feat_10</th>\n",
       "      <th>...</th>\n",
       "      <th>feat_55</th>\n",
       "      <th>feat_56</th>\n",
       "      <th>feat_57</th>\n",
       "      <th>feat_58</th>\n",
       "      <th>feat_59</th>\n",
       "      <th>feat_60</th>\n",
       "      <th>feat_61</th>\n",
       "      <th>feat_62</th>\n",
       "      <th>feat_63</th>\n",
       "      <th>feat_64</th>\n",
       "    </tr>\n",
       "  </thead>\n",
       "  <tbody>\n",
       "    <tr>\n",
       "      <th>0</th>\n",
       "      <td>0.121400</td>\n",
       "      <td>0.097238</td>\n",
       "      <td>0.74500</td>\n",
       "      <td>8.66160</td>\n",
       "      <td>25.8370</td>\n",
       "      <td>0.000000</td>\n",
       "      <td>0.158840</td>\n",
       "      <td>9.284100</td>\n",
       "      <td>2.7588</td>\n",
       "      <td>0.902760</td>\n",
       "      <td>...</td>\n",
       "      <td>775.71</td>\n",
       "      <td>0.075999</td>\n",
       "      <td>0.13447</td>\n",
       "      <td>0.94243</td>\n",
       "      <td>0.000000</td>\n",
       "      <td>4.9049</td>\n",
       "      <td>11.3390</td>\n",
       "      <td>12.865</td>\n",
       "      <td>28.3720</td>\n",
       "      <td>17.4870</td>\n",
       "    </tr>\n",
       "    <tr>\n",
       "      <th>1</th>\n",
       "      <td>0.316280</td>\n",
       "      <td>0.264920</td>\n",
       "      <td>0.65346</td>\n",
       "      <td>3.46660</td>\n",
       "      <td>55.1890</td>\n",
       "      <td>0.290140</td>\n",
       "      <td>0.316280</td>\n",
       "      <td>2.774700</td>\n",
       "      <td>2.4721</td>\n",
       "      <td>0.735080</td>\n",
       "      <td>...</td>\n",
       "      <td>1367.90</td>\n",
       "      <td>0.119990</td>\n",
       "      <td>0.43027</td>\n",
       "      <td>0.87412</td>\n",
       "      <td>0.000000</td>\n",
       "      <td>10.6020</td>\n",
       "      <td>4.5533</td>\n",
       "      <td>39.115</td>\n",
       "      <td>9.3314</td>\n",
       "      <td>30.2870</td>\n",
       "    </tr>\n",
       "    <tr>\n",
       "      <th>2</th>\n",
       "      <td>0.066615</td>\n",
       "      <td>0.890270</td>\n",
       "      <td>-0.48007</td>\n",
       "      <td>0.46076</td>\n",
       "      <td>-76.3080</td>\n",
       "      <td>0.047487</td>\n",
       "      <td>0.087936</td>\n",
       "      <td>-0.011406</td>\n",
       "      <td>1.0952</td>\n",
       "      <td>-0.010155</td>\n",
       "      <td>...</td>\n",
       "      <td>-46566.00</td>\n",
       "      <td>0.086894</td>\n",
       "      <td>-6.56010</td>\n",
       "      <td>0.91311</td>\n",
       "      <td>0.000000</td>\n",
       "      <td>32.0280</td>\n",
       "      <td>10.0480</td>\n",
       "      <td>105.220</td>\n",
       "      <td>3.4689</td>\n",
       "      <td>5.2362</td>\n",
       "    </tr>\n",
       "    <tr>\n",
       "      <th>3</th>\n",
       "      <td>0.208000</td>\n",
       "      <td>0.363630</td>\n",
       "      <td>0.33875</td>\n",
       "      <td>1.93160</td>\n",
       "      <td>-5.3169</td>\n",
       "      <td>0.251870</td>\n",
       "      <td>0.258280</td>\n",
       "      <td>1.603300</td>\n",
       "      <td>1.0535</td>\n",
       "      <td>0.583020</td>\n",
       "      <td>...</td>\n",
       "      <td>187050.00</td>\n",
       "      <td>0.050746</td>\n",
       "      <td>0.35676</td>\n",
       "      <td>0.94925</td>\n",
       "      <td>0.000000</td>\n",
       "      <td>34.8840</td>\n",
       "      <td>19.0030</td>\n",
       "      <td>24.498</td>\n",
       "      <td>14.8990</td>\n",
       "      <td>18.2040</td>\n",
       "    </tr>\n",
       "    <tr>\n",
       "      <th>4</th>\n",
       "      <td>0.096863</td>\n",
       "      <td>0.299320</td>\n",
       "      <td>0.35393</td>\n",
       "      <td>2.42640</td>\n",
       "      <td>31.5630</td>\n",
       "      <td>0.267550</td>\n",
       "      <td>0.125130</td>\n",
       "      <td>2.341000</td>\n",
       "      <td>1.0495</td>\n",
       "      <td>0.700680</td>\n",
       "      <td>...</td>\n",
       "      <td>2993.00</td>\n",
       "      <td>0.047123</td>\n",
       "      <td>0.13824</td>\n",
       "      <td>0.95288</td>\n",
       "      <td>0.073041</td>\n",
       "      <td>13.7820</td>\n",
       "      <td>6.8621</td>\n",
       "      <td>39.668</td>\n",
       "      <td>9.2013</td>\n",
       "      <td>5.7376</td>\n",
       "    </tr>\n",
       "  </tbody>\n",
       "</table>\n",
       "<p>5 rows × 64 columns</p>\n",
       "</div>"
      ],
      "text/plain": [
       "     feat_1    feat_2   feat_3   feat_4   feat_5    feat_6    feat_7  \\\n",
       "0  0.121400  0.097238  0.74500  8.66160  25.8370  0.000000  0.158840   \n",
       "1  0.316280  0.264920  0.65346  3.46660  55.1890  0.290140  0.316280   \n",
       "2  0.066615  0.890270 -0.48007  0.46076 -76.3080  0.047487  0.087936   \n",
       "3  0.208000  0.363630  0.33875  1.93160  -5.3169  0.251870  0.258280   \n",
       "4  0.096863  0.299320  0.35393  2.42640  31.5630  0.267550  0.125130   \n",
       "\n",
       "     feat_8  feat_9   feat_10  ...    feat_55   feat_56  feat_57  feat_58  \\\n",
       "0  9.284100  2.7588  0.902760  ...     775.71  0.075999  0.13447  0.94243   \n",
       "1  2.774700  2.4721  0.735080  ...    1367.90  0.119990  0.43027  0.87412   \n",
       "2 -0.011406  1.0952 -0.010155  ...  -46566.00  0.086894 -6.56010  0.91311   \n",
       "3  1.603300  1.0535  0.583020  ...  187050.00  0.050746  0.35676  0.94925   \n",
       "4  2.341000  1.0495  0.700680  ...    2993.00  0.047123  0.13824  0.95288   \n",
       "\n",
       "    feat_59  feat_60  feat_61  feat_62  feat_63  feat_64  \n",
       "0  0.000000   4.9049  11.3390   12.865  28.3720  17.4870  \n",
       "1  0.000000  10.6020   4.5533   39.115   9.3314  30.2870  \n",
       "2  0.000000  32.0280  10.0480  105.220   3.4689   5.2362  \n",
       "3  0.000000  34.8840  19.0030   24.498  14.8990  18.2040  \n",
       "4  0.073041  13.7820   6.8621   39.668   9.2013   5.7376  \n",
       "\n",
       "[5 rows x 64 columns]"
      ]
     },
     "execution_count": 18,
     "metadata": {},
     "output_type": "execute_result"
    }
   ],
   "source": [
    "under_sampler = RandomUnderSampler(random_state=42)\n",
    "X_train_under, y_train_under = under_sampler.fit_resample(X_train, y_train)\n",
    "print(X_train_under.shape)\n",
    "X_train_under.head()"
   ]
  },
  {
   "cell_type": "code",
   "execution_count": 19,
   "metadata": {},
   "outputs": [
    {
     "data": {
      "text/plain": [
       "False    0.5\n",
       "True     0.5\n",
       "Name: bankrupt, dtype: float64"
      ]
     },
     "execution_count": 19,
     "metadata": {},
     "output_type": "execute_result"
    }
   ],
   "source": [
    "# check class balance\n",
    "y_train_under.value_counts(normalize=True)"
   ]
  },
  {
   "attachments": {},
   "cell_type": "markdown",
   "metadata": {},
   "source": [
    "Now it's split equally across both classes but the issue with this is that a lot of tarining data was lost and they were not used to train the model and those data points may have had valuable information to improve the model performance.\n",
    "\n",
    "Next I'll over sample"
   ]
  },
  {
   "attachments": {},
   "cell_type": "markdown",
   "metadata": {},
   "source": [
    "**Over-sampling** is the opposite of under-sampling. Instead of reducing the majority class, over-sampling increases the number of observations in the minority class by randomly making copies of the existing observations."
   ]
  },
  {
   "cell_type": "code",
   "execution_count": 20,
   "metadata": {},
   "outputs": [
    {
     "name": "stdout",
     "output_type": "stream",
     "text": [
      "(15194, 64)\n"
     ]
    },
    {
     "data": {
      "text/html": [
       "<div>\n",
       "<style scoped>\n",
       "    .dataframe tbody tr th:only-of-type {\n",
       "        vertical-align: middle;\n",
       "    }\n",
       "\n",
       "    .dataframe tbody tr th {\n",
       "        vertical-align: top;\n",
       "    }\n",
       "\n",
       "    .dataframe thead th {\n",
       "        text-align: right;\n",
       "    }\n",
       "</style>\n",
       "<table border=\"1\" class=\"dataframe\">\n",
       "  <thead>\n",
       "    <tr style=\"text-align: right;\">\n",
       "      <th></th>\n",
       "      <th>feat_1</th>\n",
       "      <th>feat_2</th>\n",
       "      <th>feat_3</th>\n",
       "      <th>feat_4</th>\n",
       "      <th>feat_5</th>\n",
       "      <th>feat_6</th>\n",
       "      <th>feat_7</th>\n",
       "      <th>feat_8</th>\n",
       "      <th>feat_9</th>\n",
       "      <th>feat_10</th>\n",
       "      <th>...</th>\n",
       "      <th>feat_55</th>\n",
       "      <th>feat_56</th>\n",
       "      <th>feat_57</th>\n",
       "      <th>feat_58</th>\n",
       "      <th>feat_59</th>\n",
       "      <th>feat_60</th>\n",
       "      <th>feat_61</th>\n",
       "      <th>feat_62</th>\n",
       "      <th>feat_63</th>\n",
       "      <th>feat_64</th>\n",
       "    </tr>\n",
       "  </thead>\n",
       "  <tbody>\n",
       "    <tr>\n",
       "      <th>0</th>\n",
       "      <td>0.279320</td>\n",
       "      <td>0.053105</td>\n",
       "      <td>0.852030</td>\n",
       "      <td>17.0440</td>\n",
       "      <td>199.080</td>\n",
       "      <td>0.741770</td>\n",
       "      <td>0.353570</td>\n",
       "      <td>16.00600</td>\n",
       "      <td>1.2346</td>\n",
       "      <td>0.84997</td>\n",
       "      <td>...</td>\n",
       "      <td>52857.00</td>\n",
       "      <td>0.190040</td>\n",
       "      <td>0.328630</td>\n",
       "      <td>0.80996</td>\n",
       "      <td>0.00000</td>\n",
       "      <td>NaN</td>\n",
       "      <td>4.1858</td>\n",
       "      <td>11.002</td>\n",
       "      <td>33.1760</td>\n",
       "      <td>18.5720</td>\n",
       "    </tr>\n",
       "    <tr>\n",
       "      <th>1</th>\n",
       "      <td>0.001871</td>\n",
       "      <td>0.735120</td>\n",
       "      <td>0.156460</td>\n",
       "      <td>1.2269</td>\n",
       "      <td>-10.837</td>\n",
       "      <td>0.000000</td>\n",
       "      <td>0.002938</td>\n",
       "      <td>0.36032</td>\n",
       "      <td>1.4809</td>\n",
       "      <td>0.26488</td>\n",
       "      <td>...</td>\n",
       "      <td>440.02</td>\n",
       "      <td>0.014794</td>\n",
       "      <td>0.007064</td>\n",
       "      <td>0.99803</td>\n",
       "      <td>0.00000</td>\n",
       "      <td>7.4268</td>\n",
       "      <td>2.2925</td>\n",
       "      <td>169.960</td>\n",
       "      <td>2.1476</td>\n",
       "      <td>9.6185</td>\n",
       "    </tr>\n",
       "    <tr>\n",
       "      <th>2</th>\n",
       "      <td>0.113940</td>\n",
       "      <td>0.490250</td>\n",
       "      <td>0.077121</td>\n",
       "      <td>1.2332</td>\n",
       "      <td>-43.184</td>\n",
       "      <td>-0.000171</td>\n",
       "      <td>0.113940</td>\n",
       "      <td>1.03980</td>\n",
       "      <td>1.1649</td>\n",
       "      <td>0.50975</td>\n",
       "      <td>...</td>\n",
       "      <td>4617.40</td>\n",
       "      <td>0.214890</td>\n",
       "      <td>0.223520</td>\n",
       "      <td>0.78761</td>\n",
       "      <td>0.27412</td>\n",
       "      <td>6.2791</td>\n",
       "      <td>6.1622</td>\n",
       "      <td>103.630</td>\n",
       "      <td>3.5220</td>\n",
       "      <td>1.9673</td>\n",
       "    </tr>\n",
       "    <tr>\n",
       "      <th>3</th>\n",
       "      <td>0.008136</td>\n",
       "      <td>0.652610</td>\n",
       "      <td>0.148120</td>\n",
       "      <td>1.2628</td>\n",
       "      <td>29.071</td>\n",
       "      <td>0.000000</td>\n",
       "      <td>0.008136</td>\n",
       "      <td>0.53230</td>\n",
       "      <td>1.2891</td>\n",
       "      <td>0.34739</td>\n",
       "      <td>...</td>\n",
       "      <td>920.98</td>\n",
       "      <td>0.045169</td>\n",
       "      <td>0.023421</td>\n",
       "      <td>0.99434</td>\n",
       "      <td>0.14403</td>\n",
       "      <td>22.7480</td>\n",
       "      <td>2.2673</td>\n",
       "      <td>159.580</td>\n",
       "      <td>2.2872</td>\n",
       "      <td>4.4718</td>\n",
       "    </tr>\n",
       "    <tr>\n",
       "      <th>4</th>\n",
       "      <td>0.045396</td>\n",
       "      <td>0.279640</td>\n",
       "      <td>0.708730</td>\n",
       "      <td>3.7656</td>\n",
       "      <td>238.120</td>\n",
       "      <td>0.000000</td>\n",
       "      <td>0.056710</td>\n",
       "      <td>2.57610</td>\n",
       "      <td>1.0169</td>\n",
       "      <td>0.72036</td>\n",
       "      <td>...</td>\n",
       "      <td>10744.00</td>\n",
       "      <td>0.047501</td>\n",
       "      <td>0.063019</td>\n",
       "      <td>0.94624</td>\n",
       "      <td>0.00000</td>\n",
       "      <td>13.8860</td>\n",
       "      <td>49.0660</td>\n",
       "      <td>91.984</td>\n",
       "      <td>3.9681</td>\n",
       "      <td>29.0460</td>\n",
       "    </tr>\n",
       "  </tbody>\n",
       "</table>\n",
       "<p>5 rows × 64 columns</p>\n",
       "</div>"
      ],
      "text/plain": [
       "     feat_1    feat_2    feat_3   feat_4   feat_5    feat_6    feat_7  \\\n",
       "0  0.279320  0.053105  0.852030  17.0440  199.080  0.741770  0.353570   \n",
       "1  0.001871  0.735120  0.156460   1.2269  -10.837  0.000000  0.002938   \n",
       "2  0.113940  0.490250  0.077121   1.2332  -43.184 -0.000171  0.113940   \n",
       "3  0.008136  0.652610  0.148120   1.2628   29.071  0.000000  0.008136   \n",
       "4  0.045396  0.279640  0.708730   3.7656  238.120  0.000000  0.056710   \n",
       "\n",
       "     feat_8  feat_9  feat_10  ...   feat_55   feat_56   feat_57  feat_58  \\\n",
       "0  16.00600  1.2346  0.84997  ...  52857.00  0.190040  0.328630  0.80996   \n",
       "1   0.36032  1.4809  0.26488  ...    440.02  0.014794  0.007064  0.99803   \n",
       "2   1.03980  1.1649  0.50975  ...   4617.40  0.214890  0.223520  0.78761   \n",
       "3   0.53230  1.2891  0.34739  ...    920.98  0.045169  0.023421  0.99434   \n",
       "4   2.57610  1.0169  0.72036  ...  10744.00  0.047501  0.063019  0.94624   \n",
       "\n",
       "   feat_59  feat_60  feat_61  feat_62  feat_63  feat_64  \n",
       "0  0.00000      NaN   4.1858   11.002  33.1760  18.5720  \n",
       "1  0.00000   7.4268   2.2925  169.960   2.1476   9.6185  \n",
       "2  0.27412   6.2791   6.1622  103.630   3.5220   1.9673  \n",
       "3  0.14403  22.7480   2.2673  159.580   2.2872   4.4718  \n",
       "4  0.00000  13.8860  49.0660   91.984   3.9681  29.0460  \n",
       "\n",
       "[5 rows x 64 columns]"
      ]
     },
     "execution_count": 20,
     "metadata": {},
     "output_type": "execute_result"
    }
   ],
   "source": [
    "over_sampler = RandomOverSampler(random_state=42)\n",
    "X_train_over, y_train_over = over_sampler.fit_resample(X_train, y_train)\n",
    "print(X_train_over.shape)\n",
    "X_train_over.head()"
   ]
  },
  {
   "cell_type": "code",
   "execution_count": 21,
   "metadata": {},
   "outputs": [
    {
     "data": {
      "text/plain": [
       "False    0.5\n",
       "True     0.5\n",
       "Name: bankrupt, dtype: float64"
      ]
     },
     "execution_count": 21,
     "metadata": {},
     "output_type": "execute_result"
    }
   ],
   "source": [
    "y_train_over.value_counts(normalize=True)"
   ]
  },
  {
   "attachments": {},
   "cell_type": "markdown",
   "metadata": {},
   "source": [
    "# Build Model\n",
    "\n",
    "## Baseline"
   ]
  },
  {
   "attachments": {},
   "cell_type": "markdown",
   "metadata": {},
   "source": [
    "As always, I need to establish the baseline for the model. Since this is a classification problem, I'll use accuracy score."
   ]
  },
  {
   "cell_type": "code",
   "execution_count": 22,
   "metadata": {},
   "outputs": [
    {
     "name": "stdout",
     "output_type": "stream",
     "text": [
      "Baseline Accuracy: 0.9519\n"
     ]
    }
   ],
   "source": [
    "acc_baseline = y_train.value_counts(normalize=True).max()\n",
    "print(\"Baseline Accuracy:\", round(acc_baseline, 4))"
   ]
  },
  {
   "attachments": {},
   "cell_type": "markdown",
   "metadata": {},
   "source": [
    "Note here that, because the classes are imbalanced, the baseline accuracy is very high. We should keep this in mind because, even if our trained model gets a high validation accuracy score, that doesn't mean it's actually *good.* "
   ]
  },
  {
   "attachments": {},
   "cell_type": "markdown",
   "metadata": {},
   "source": [
    "# Iterate"
   ]
  },
  {
   "attachments": {},
   "cell_type": "markdown",
   "metadata": {},
   "source": [
    "Now there's a baseline, I'l build model to see if I can beat it.\n",
    "\n",
    "Here I'll create three identical models: model_reg, model_under and model_over. All of them would use a SimpleImputer followed by a DecisionTreeClassifier. I'll train model_reg using the unaltered training data. For model_under, I'll use the undersampled data. For model_over, I'll use the oversampled data."
   ]
  },
  {
   "cell_type": "code",
   "execution_count": 23,
   "metadata": {},
   "outputs": [
    {
     "data": {
      "text/html": [
       "<style>#sk-container-id-1 {color: black;background-color: white;}#sk-container-id-1 pre{padding: 0;}#sk-container-id-1 div.sk-toggleable {background-color: white;}#sk-container-id-1 label.sk-toggleable__label {cursor: pointer;display: block;width: 100%;margin-bottom: 0;padding: 0.3em;box-sizing: border-box;text-align: center;}#sk-container-id-1 label.sk-toggleable__label-arrow:before {content: \"▸\";float: left;margin-right: 0.25em;color: #696969;}#sk-container-id-1 label.sk-toggleable__label-arrow:hover:before {color: black;}#sk-container-id-1 div.sk-estimator:hover label.sk-toggleable__label-arrow:before {color: black;}#sk-container-id-1 div.sk-toggleable__content {max-height: 0;max-width: 0;overflow: hidden;text-align: left;background-color: #f0f8ff;}#sk-container-id-1 div.sk-toggleable__content pre {margin: 0.2em;color: black;border-radius: 0.25em;background-color: #f0f8ff;}#sk-container-id-1 input.sk-toggleable__control:checked~div.sk-toggleable__content {max-height: 200px;max-width: 100%;overflow: auto;}#sk-container-id-1 input.sk-toggleable__control:checked~label.sk-toggleable__label-arrow:before {content: \"▾\";}#sk-container-id-1 div.sk-estimator input.sk-toggleable__control:checked~label.sk-toggleable__label {background-color: #d4ebff;}#sk-container-id-1 div.sk-label input.sk-toggleable__control:checked~label.sk-toggleable__label {background-color: #d4ebff;}#sk-container-id-1 input.sk-hidden--visually {border: 0;clip: rect(1px 1px 1px 1px);clip: rect(1px, 1px, 1px, 1px);height: 1px;margin: -1px;overflow: hidden;padding: 0;position: absolute;width: 1px;}#sk-container-id-1 div.sk-estimator {font-family: monospace;background-color: #f0f8ff;border: 1px dotted black;border-radius: 0.25em;box-sizing: border-box;margin-bottom: 0.5em;}#sk-container-id-1 div.sk-estimator:hover {background-color: #d4ebff;}#sk-container-id-1 div.sk-parallel-item::after {content: \"\";width: 100%;border-bottom: 1px solid gray;flex-grow: 1;}#sk-container-id-1 div.sk-label:hover label.sk-toggleable__label {background-color: #d4ebff;}#sk-container-id-1 div.sk-serial::before {content: \"\";position: absolute;border-left: 1px solid gray;box-sizing: border-box;top: 0;bottom: 0;left: 50%;z-index: 0;}#sk-container-id-1 div.sk-serial {display: flex;flex-direction: column;align-items: center;background-color: white;padding-right: 0.2em;padding-left: 0.2em;position: relative;}#sk-container-id-1 div.sk-item {position: relative;z-index: 1;}#sk-container-id-1 div.sk-parallel {display: flex;align-items: stretch;justify-content: center;background-color: white;position: relative;}#sk-container-id-1 div.sk-item::before, #sk-container-id-1 div.sk-parallel-item::before {content: \"\";position: absolute;border-left: 1px solid gray;box-sizing: border-box;top: 0;bottom: 0;left: 50%;z-index: -1;}#sk-container-id-1 div.sk-parallel-item {display: flex;flex-direction: column;z-index: 1;position: relative;background-color: white;}#sk-container-id-1 div.sk-parallel-item:first-child::after {align-self: flex-end;width: 50%;}#sk-container-id-1 div.sk-parallel-item:last-child::after {align-self: flex-start;width: 50%;}#sk-container-id-1 div.sk-parallel-item:only-child::after {width: 0;}#sk-container-id-1 div.sk-dashed-wrapped {border: 1px dashed gray;margin: 0 0.4em 0.5em 0.4em;box-sizing: border-box;padding-bottom: 0.4em;background-color: white;}#sk-container-id-1 div.sk-label label {font-family: monospace;font-weight: bold;display: inline-block;line-height: 1.2em;}#sk-container-id-1 div.sk-label-container {text-align: center;}#sk-container-id-1 div.sk-container {/* jupyter's `normalize.less` sets `[hidden] { display: none; }` but bootstrap.min.css set `[hidden] { display: none !important; }` so we also need the `!important` here to be able to override the default hidden behavior on the sphinx rendered scikit-learn.org. See: https://github.com/scikit-learn/scikit-learn/issues/21755 */display: inline-block !important;position: relative;}#sk-container-id-1 div.sk-text-repr-fallback {display: none;}</style><div id=\"sk-container-id-1\" class=\"sk-top-container\"><div class=\"sk-text-repr-fallback\"><pre>Pipeline(steps=[(&#x27;simpleimputer&#x27;, SimpleImputer(strategy=&#x27;median&#x27;)),\n",
       "                (&#x27;decisiontreeclassifier&#x27;,\n",
       "                 DecisionTreeClassifier(random_state=42))])</pre><b>In a Jupyter environment, please rerun this cell to show the HTML representation or trust the notebook. <br />On GitHub, the HTML representation is unable to render, please try loading this page with nbviewer.org.</b></div><div class=\"sk-container\" hidden><div class=\"sk-item sk-dashed-wrapped\"><div class=\"sk-label-container\"><div class=\"sk-label sk-toggleable\"><input class=\"sk-toggleable__control sk-hidden--visually\" id=\"sk-estimator-id-1\" type=\"checkbox\" ><label for=\"sk-estimator-id-1\" class=\"sk-toggleable__label sk-toggleable__label-arrow\">Pipeline</label><div class=\"sk-toggleable__content\"><pre>Pipeline(steps=[(&#x27;simpleimputer&#x27;, SimpleImputer(strategy=&#x27;median&#x27;)),\n",
       "                (&#x27;decisiontreeclassifier&#x27;,\n",
       "                 DecisionTreeClassifier(random_state=42))])</pre></div></div></div><div class=\"sk-serial\"><div class=\"sk-item\"><div class=\"sk-estimator sk-toggleable\"><input class=\"sk-toggleable__control sk-hidden--visually\" id=\"sk-estimator-id-2\" type=\"checkbox\" ><label for=\"sk-estimator-id-2\" class=\"sk-toggleable__label sk-toggleable__label-arrow\">SimpleImputer</label><div class=\"sk-toggleable__content\"><pre>SimpleImputer(strategy=&#x27;median&#x27;)</pre></div></div></div><div class=\"sk-item\"><div class=\"sk-estimator sk-toggleable\"><input class=\"sk-toggleable__control sk-hidden--visually\" id=\"sk-estimator-id-3\" type=\"checkbox\" ><label for=\"sk-estimator-id-3\" class=\"sk-toggleable__label sk-toggleable__label-arrow\">DecisionTreeClassifier</label><div class=\"sk-toggleable__content\"><pre>DecisionTreeClassifier(random_state=42)</pre></div></div></div></div></div></div></div>"
      ],
      "text/plain": [
       "Pipeline(steps=[('simpleimputer', SimpleImputer(strategy='median')),\n",
       "                ('decisiontreeclassifier',\n",
       "                 DecisionTreeClassifier(random_state=42))])"
      ]
     },
     "execution_count": 23,
     "metadata": {},
     "output_type": "execute_result"
    }
   ],
   "source": [
    "# Fit on `X_train`, `y_train`\n",
    "model_reg = make_pipeline(\n",
    "    SimpleImputer(strategy=\"median\"), DecisionTreeClassifier(random_state=42)\n",
    ")\n",
    "model_reg.fit(X_train, y_train)\n",
    "\n",
    "# Fit on `X_train_under`, `y_train_under`\n",
    "model_under = make_pipeline(\n",
    "    SimpleImputer(strategy=\"median\"), DecisionTreeClassifier(random_state=42)\n",
    ")\n",
    "model_under.fit(X_train_under, y_train_under)\n",
    "\n",
    "# Fit on `X_train_over`, `y_train_over`\n",
    "model_over = make_pipeline(\n",
    "    SimpleImputer(strategy=\"median\"), DecisionTreeClassifier(random_state=42)\n",
    ")\n",
    "model_over.fit(X_train_over, y_train_over)"
   ]
  },
  {
   "attachments": {},
   "cell_type": "markdown",
   "metadata": {},
   "source": [
    "# Evaluate"
   ]
  },
  {
   "cell_type": "code",
   "execution_count": 24,
   "metadata": {},
   "outputs": [
    {
     "name": "stdout",
     "output_type": "stream",
     "text": [
      "Training Accuracy: 1.0\n",
      "Test Accuracy: 0.9359\n",
      "Training Accuracy: 0.7421\n",
      "Test Accuracy: 0.7104\n",
      "Training Accuracy: 1.0\n",
      "Test Accuracy: 0.9344\n"
     ]
    }
   ],
   "source": [
    "# Calculate training and test accuracy for all 3 models\n",
    "for m in [model_reg, model_under, model_over]:\n",
    "    acc_train = m.score(X_train, y_train)\n",
    "    acc_test = m.score(X_test, y_test)\n",
    "\n",
    "    print(\"Training Accuracy:\", round(acc_train, 4))\n",
    "    print(\"Test Accuracy:\", round(acc_test, 4))"
   ]
  },
  {
   "attachments": {},
   "cell_type": "markdown",
   "metadata": {},
   "source": [
    "As I mentioned earlier, \"good\" accuracy scores don't tell much about the model's performance when dealing with imbalanced data. So instead of looking at what the model got right or wrong, let's see how its predictions differ for the two classes in the dataset. For this I'll be using a confusion matrix."
   ]
  },
  {
   "attachments": {},
   "cell_type": "markdown",
   "metadata": {},
   "source": [
    "# Confusion Matrix\n",
    "Accuracy score may not provide enough information to assess how a model is performing because it only gives us an overall score. Also, imbalanced data can lead to a high accuracy score even when a model isn't particularly useful. If we want to know what fraction of all positive predictions were correct and what fraction of positive observations did we identify, we can use a **confusion matrix**.\n",
    "\n",
    "A confusion matrix is a table summarizing the performance of the model by enumerating true and false positives and the true and false negatives.\n",
    "\n",
    "|                     | Positive Observation     | Negative Observation    |\n",
    "|---------------------|:------------------------:|:-----------------------:|\n",
    "| **Positive Prediction** |     True Positive (`TP`)   | False Positive (`FP`)     |\n",
    "| **Negative Prediction** | False Negative (`FN`)      |     True Negative (`TN`)  |"
   ]
  },
  {
   "cell_type": "code",
   "execution_count": 25,
   "metadata": {},
   "outputs": [
    {
     "data": {
      "image/png": "[encoded data removed]",
      "text/plain": [
       "<Figure size 640x480 with 2 Axes>"
      ]
     },
     "metadata": {},
     "output_type": "display_data"
    }
   ],
   "source": [
    "# Plot confusion matrix\n",
    "ConfusionMatrixDisplay.from_estimator(model_reg, X_test, y_test);"
   ]
  },
  {
   "attachments": {},
   "cell_type": "markdown",
   "metadata": {},
   "source": [
    "* Top left is the True Negative: The model correctly predicted the negative class.\n",
    "\n",
    "* Top RIght is the False Positive: The model incorrectly predicted the positive class when the actual class was negative.\n",
    "\n",
    "* Bottom Right is the False Negative: The model incorrectly predicted the negative class when the actual class was positive.\n",
    "\n",
    "* Bottom Left is the True Positive: The model correctly predicted the positive class."
   ]
  },
  {
   "attachments": {},
   "cell_type": "markdown",
   "metadata": {},
   "source": [
    "In this lesson, I didn't do any hyperparameter tuning, but it will be helpful in the next lesson to know what the depth of the tree model_over."
   ]
  },
  {
   "cell_type": "code",
   "execution_count": 26,
   "metadata": {},
   "outputs": [
    {
     "name": "stdout",
     "output_type": "stream",
     "text": [
      "33\n"
     ]
    }
   ],
   "source": [
    "depth = model_over.named_steps[\"decisiontreeclassifier\"].get_depth()\n",
    "print(depth)"
   ]
  },
  {
   "attachments": {},
   "cell_type": "markdown",
   "metadata": {},
   "source": [
    "# Communicate\n"
   ]
  },
  {
   "cell_type": "code",
   "execution_count": 27,
   "metadata": {},
   "outputs": [
    {
     "data": {
      "image/png": "[encoded data removed]",
      "text/plain": [
       "<Figure size 640x480 with 1 Axes>"
      ]
     },
     "metadata": {},
     "output_type": "display_data"
    }
   ],
   "source": [
    "# Get importances\n",
    "importances = model_over.named_steps[\"decisiontreeclassifier\"].feature_importances_\n",
    "\n",
    "# Put importances into a Series\n",
    "feat_imp = pd.Series(importances, index=X_train_over.columns).sort_values()\n",
    "\n",
    "# Plot series\n",
    "feat_imp.tail(15).plot(kind=\"barh\")\n",
    "plt.xlabel(\"Gini Importance\")\n",
    "plt.ylabel(\"Feature\")\n",
    "plt.title(\"model_over Feature Importance\");"
   ]
  },
  {
   "attachments": {},
   "cell_type": "markdown",
   "metadata": {},
   "source": [
    "\n",
    "There's our old friend `\"feat_27\"` near the top, along with features 34 and 26. It's time to share our findings.\n",
    "\n",
    "Sometimes communication means sharing a visualization. Other times, it means sharing the actual model you've made so that colleagues can use it on new data or deploy your model into production. First step towards production: saving your model.\n"
   ]
  },
  {
   "cell_type": "code",
   "execution_count": 29,
   "metadata": {},
   "outputs": [],
   "source": [
    "# Save the best performing model using a context manager\n",
    "with open(\"model-5-2.pkl\", \"wb\") as f:\n",
    "    pickle.dump(model_over, f)"
   ]
  }
 ],
 "metadata": {
  "kernelspec": {
   "display_name": "ML",
   "language": "python",
   "name": "python3"
  },
  "language_info": {
   "codemirror_mode": {
    "name": "ipython",
    "version": 3
   },
   "file_extension": ".py",
   "mimetype": "text/x-python",
   "name": "python",
   "nbconvert_exporter": "python",
   "pygments_lexer": "ipython3",
   "version": "3.10.5"
  },
  "orig_nbformat": 4
 },
 "nbformat": 4,
 "nbformat_minor": 2
}
